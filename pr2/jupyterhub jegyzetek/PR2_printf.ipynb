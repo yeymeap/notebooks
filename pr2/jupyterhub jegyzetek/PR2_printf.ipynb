{
 "cells": [
  {
   "cell_type": "markdown",
   "id": "28611b3f-8711-4b8f-ae4f-63b2740b2865",
   "metadata": {},
   "source": [
    "## printf() formázási referencia\n",
    "\n",
    "https://alvinalexander.com/programming/printf-format-cheat-sheet/"
   ]
  },
  {
   "cell_type": "markdown",
   "id": "c708abd5-ab4d-4703-b34d-aa6c67fdc8f5",
   "metadata": {},
   "source": [
    "<table align=\"left\">\n",
    "  <tr>\n",
    "    <th>Jel</th>\n",
    "    <th>Magyarázat</th>    \n",
    "  </tr>\n",
    "  <tr>\n",
    "    <td>%c</td>\n",
    "    <td>1 darab karakter - character</td>    \n",
    "  </tr>\n",
    "  <tr>\n",
    "    <td>%d</td>\n",
    "    <td>Decimális szám - decimal</td>    \n",
    "  </tr>\n",
    "  <tr>\n",
    "    <td>%e</td>\n",
    "    <td>Exponenciális lebegőpontos szám - exponential</td>    \n",
    "  </tr>\n",
    "  <tr>\n",
    "    <td>%f</td>\n",
    "    <td>Lebegőpontos szám - float</td>    \n",
    "  </tr>\n",
    "  <tr>\n",
    "    <td>%i</td>\n",
    "    <td>Integer (decimális szám) - decimal</td>    \n",
    "  </tr>\n",
    "  <tr>\n",
    "    <td>%o</td>\n",
    "    <td>Nyolcas számrendszer (oktális szám) - octal</td>    \n",
    "  </tr>\n",
    "  <tr>\n",
    "    <td>%s</td>\n",
    "    <td>Karakterlánc - string</td>    \n",
    "  </tr>\n",
    "  <tr>\n",
    "    <td>%u</td>\n",
    "    <td>Nem negatív egész szám - unsigned integer</td>    \n",
    "  </tr>\n",
    "  <tr>\n",
    "    <td>%%</td>\n",
    "    <td>Százalékjel kiírása</td>    \n",
    "  </tr>\n",
    "  <tr>\n",
    "    <td>\\%</td>\n",
    "    <td>Százalékjel kiírása feloldójellel</td>    \n",
    "  </tr>\n",
    "   <tr>\n",
    "    <td>\\\\</td>\n",
    "    <td>\\ jel kiírása feloldójellel</td>    \n",
    "  </tr>\n",
    "  <tr>\n",
    "    <td>\\n</td>\n",
    "    <td>Új sor, sortörés - new line</td>        \n",
    "  </tr>\n",
    "  <tr>\n",
    "    <td>\\t</td>\n",
    "    <td>Tabulátor - tab</td>        \n",
    "  </tr>\n",
    "</table>"
   ]
  },
  {
   "cell_type": "markdown",
   "id": "68b5012a-4044-4b34-aeb9-164b423a8ec7",
   "metadata": {},
   "source": [
    "### Szöveg"
   ]
  },
  {
   "cell_type": "code",
   "execution_count": 12,
   "id": "7ae36106-d5de-4034-ac81-a2bd60d1b7cc",
   "metadata": {},
   "outputs": [
    {
     "name": "stdout",
     "output_type": "stream",
     "text": [
      "Ez egy mondat.\n",
      "Ez egy mondat.\n",
      "100%\n",
      "100%"
     ]
    }
   ],
   "source": [
    "#include <stdio.h>\n",
    "\n",
    "int main() {\n",
    "    printf(\"Ez egy mondat.\");\n",
    "    printf(\"\\n\");\n",
    "    printf(\"%s\", \"Ez egy mondat.\");\n",
    "    printf(\"\\n\");\n",
    "    printf(\"100%%\");\n",
    "    printf(\"\\n\");\n",
    "    printf(\"%d%%\", 100);\n",
    "}"
   ]
  },
  {
   "cell_type": "markdown",
   "id": "c081e08e-48ed-4bb2-a010-0de63efc78cf",
   "metadata": {},
   "source": [
    "### Számok"
   ]
  },
  {
   "cell_type": "code",
   "execution_count": 6,
   "id": "4296bab7-1032-430a-a358-3f2e4426a990",
   "metadata": {},
   "outputs": [
    {
     "name": "stdout",
     "output_type": "stream",
     "text": [
      "15\n",
      "17"
     ]
    }
   ],
   "source": [
    "#include <stdio.h>\n",
    "\n",
    "int main() {\n",
    "    printf(\"%d\", 15);\n",
    "    printf(\"\\n\");\n",
    "    printf(\"%o\", 15);    \n",
    "}"
   ]
  },
  {
   "cell_type": "markdown",
   "id": "03461dde-b2f2-4b22-98d0-82fa9f0c5cb7",
   "metadata": {},
   "source": [
    "### Számok igazítása jobbra\n",
    "\n",
    "Formázás során gyakran használatos <code>%5d</code> és hasonló jelölés, ami ebben az esetben minimum 5 karaktert fenntart a kiírandó érték számára. A megadott limiten belül alapértelmezetten jobbra igazít, hosszabb értéket nem vág le."
   ]
  },
  {
   "cell_type": "code",
   "execution_count": 18,
   "id": "8be39e49-54d7-41ee-9501-405c4ec5dd75",
   "metadata": {},
   "outputs": [
    {
     "name": "stdout",
     "output_type": "stream",
     "text": [
      "15\n",
      "   12\n",
      "  123\n",
      " 1234\n",
      "  -12\n",
      "-123456789\n",
      "123456789"
     ]
    }
   ],
   "source": [
    "#include <stdio.h>\n",
    "\n",
    "int main() {\n",
    "    printf(\"%d\", 15);\n",
    "    printf(\"\\n\");\n",
    "    printf(\"%5d\", 12);\n",
    "    printf(\"\\n\");\n",
    "    printf(\"%5d\", 123); \n",
    "    printf(\"\\n\");\n",
    "    printf(\"%5d\", 1234); \n",
    "    printf(\"\\n\");\n",
    "    printf(\"%5d\", -12);\n",
    "    printf(\"\\n\");\n",
    "    printf(\"%5d\", -123456789);\n",
    "    printf(\"\\n\");\n",
    "    printf(\"%5d\", 123456789);\n",
    "}"
   ]
  },
  {
   "cell_type": "markdown",
   "id": "38c73ea1-6267-45c2-8b17-2206d3094949",
   "metadata": {},
   "source": [
    "### Számok igazítása balra\n",
    "\n",
    "Balra igazítása során a kijelölt karakterek számának negítv előjelet szükséges adni. Pl.: <code>%-5d<code>"
   ]
  },
  {
   "cell_type": "code",
   "execution_count": 17,
   "id": "b41cf364-31dc-46f9-936f-734eb10821e9",
   "metadata": {},
   "outputs": [
    {
     "name": "stdout",
     "output_type": "stream",
     "text": [
      "15\n",
      "12   \n",
      "123  \n",
      "1234 \n",
      "-12  \n",
      "-123456789\n",
      "123456789"
     ]
    }
   ],
   "source": [
    "#include <stdio.h>\n",
    "\n",
    "int main() {\n",
    "    printf(\"%d\", 15);\n",
    "    printf(\"\\n\");\n",
    "    printf(\"%-5d\", 12);\n",
    "    printf(\"\\n\");\n",
    "    printf(\"%-5d\", 123); \n",
    "    printf(\"\\n\");\n",
    "    printf(\"%-5d\", 1234); \n",
    "    printf(\"\\n\");\n",
    "    printf(\"%-5d\", -12);\n",
    "    printf(\"\\n\");\n",
    "    printf(\"%-5d\", -123456789);\n",
    "    printf(\"\\n\");\n",
    "    printf(\"%-5d\", 123456789);\n",
    "}"
   ]
  },
  {
   "cell_type": "code",
   "execution_count": 24,
   "id": "165b586b-88a4-47de-b15b-8c01dee1819c",
   "metadata": {},
   "outputs": [
    {
     "name": "stdout",
     "output_type": "stream",
     "text": [
      "00012\n",
      "|12   |\n",
      "|   12|"
     ]
    }
   ],
   "source": [
    "#include <stdio.h>\n",
    "\n",
    "int main() {    \n",
    "    printf(\"%05d\", 12);\n",
    "    printf(\"\\n\");\n",
    "    printf(\"|%-5d|\", 12);  \n",
    "    printf(\"\\n\");\n",
    "    printf(\"|%5d|\", 12);  \n",
    "}"
   ]
  },
  {
   "cell_type": "markdown",
   "id": "92304414-cb0d-420c-bccd-12e7db8c90f7",
   "metadata": {},
   "source": [
    "### Lebegőpontos értékek formázása\n",
    "\n",
    "Megjelenítendő tizedes helyek mennyiségét pl. 2 tizedes helyre <code>%.2f</code> jelöléssel lehet korlátozni."
   ]
  },
  {
   "cell_type": "code",
   "execution_count": 42,
   "id": "ada03c65-94fd-4ecd-8e9d-aa2cf0ddc618",
   "metadata": {},
   "outputs": [
    {
     "name": "stdout",
     "output_type": "stream",
     "text": [
      "Nem egész érték decimálisként való kezelése hibás értéket okozhat: -89243760\n",
      "12.12\n",
      "10 karakter szélességen jobbra igazított, 3 tizedesre korlátozott lebegőpontos érték: |    12.123|\n",
      "96.98765"
     ]
    }
   ],
   "source": [
    "#include <stdio.h>\n",
    "\n",
    "int main() {    \n",
    "    printf(\"Nem egész érték decimálisként való kezelése hibás értéket okozhat: %d\", 12.123456);    \n",
    "    printf(\"\\n\");\n",
    "    printf(\"%.2f\", 12.123456);\n",
    "    printf(\"\\n\");\n",
    "    printf(\"10 karakter szélességen jobbra igazított, 3 tizedesre korlátozott lebegőpontos érték: |%10.3f|\", 12.123456);  \n",
    "    printf(\"\\n\");\n",
    "    printf(\"%.5f\", 12.123456*8);  \n",
    "}"
   ]
  },
  {
   "cell_type": "markdown",
   "id": "ca113569-6c69-496e-a15b-e6b9c82091bb",
   "metadata": {},
   "source": [
    "### Karakterlánc formázása"
   ]
  },
  {
   "cell_type": "code",
   "execution_count": 46,
   "id": "d380948d-0b76-4b89-9fb5-d880ef6af2ab",
   "metadata": {},
   "outputs": [
    {
     "name": "stdout",
     "output_type": "stream",
     "text": [
      "Egyszerű szöveg\n",
      "Tömbbe mentett karakterlánc\n",
      "\n",
      "Alapértelmezett igazítás:      |szöveg|\n",
      "Karakterlánc igazítása balra:  |szöveg             |\n",
      "Karakterlánc igazítása jobbra: |             szöveg|"
     ]
    }
   ],
   "source": [
    "#include <stdio.h>\n",
    "\n",
    "int main() {    \n",
    "    printf(\"%s\", \"Egyszerű szöveg\");    \n",
    "    printf(\"\\n\");\n",
    "    \n",
    "    char text[] = \"Tömbbe mentett karakterlánc\";\n",
    "    printf(\"%s\", text);\n",
    "    printf(\"\\n\");\n",
    "    \n",
    "    printf(\"\\n\");\n",
    "    printf(\"Alapértelmezett igazítás:      |%s|\", \"szöveg\");\n",
    "    printf(\"\\n\");\n",
    "    printf(\"Karakterlánc igazítása balra:  |%-20s|\", \"szöveg\");  \n",
    "    printf(\"\\n\");\n",
    "    printf(\"Karakterlánc igazítása jobbra: |%20s|\", \"szöveg\");  \n",
    "}"
   ]
  },
  {
   "cell_type": "code",
   "execution_count": null,
   "id": "5ef395fc-5a4a-4e31-8bed-e44d0a4fdcdb",
   "metadata": {},
   "outputs": [],
   "source": []
  }
 ],
 "metadata": {
  "kernelspec": {
   "display_name": "C",
   "language": "c",
   "name": "c"
  },
  "language_info": {
   "file_extension": ".c",
   "mimetype": "text/x-csrc",
   "name": "text/x-csrc"
  }
 },
 "nbformat": 4,
 "nbformat_minor": 5
}
