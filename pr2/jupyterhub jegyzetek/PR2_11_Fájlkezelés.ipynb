{
 "cells": [
  {
   "cell_type": "markdown",
   "id": "302a2a53-524f-45d5-a935-b75d84aacf2a",
   "metadata": {},
   "source": [
    "# Fájlkezelés"
   ]
  },
  {
   "cell_type": "markdown",
   "id": "f7ede42c-3d89-4551-be1e-f8d7a595bfe4",
   "metadata": {},
   "source": [
    "## 1. Adatok mentése fájlba"
   ]
  },
  {
   "cell_type": "markdown",
   "id": "37849329-0cda-4e5e-b39c-ed9015980f4c",
   "metadata": {},
   "source": [
    "### 1.1 Fájl mentése - változó esetén"
   ]
  },
  {
   "cell_type": "code",
   "execution_count": 28,
   "id": "2a633476-2e82-419a-87cd-293eea8285f7",
   "metadata": {},
   "outputs": [
    {
     "name": "stdout",
     "output_type": "stream",
     "text": [
      "16 \n",
      "Fájl mentve mentett_fajl_1 néven."
     ]
    }
   ],
   "source": [
    "#include <stdio.h>\n",
    "#include <time.h>\n",
    "\n",
    "int main() {    \n",
    "    srand(time(NULL));    \n",
    "    int a = 0;\n",
    "    char filename[] = \"mentett_fajl_1\";\n",
    "    a = rand() % 99 + 1;\n",
    "    \n",
    "    printf(\"%d \", a);\n",
    "    FILE *file;    \n",
    "    file = fopen(filename,\"w\");\n",
    "    fprintf(file, \"%d \", a);\n",
    "    fclose(file); \n",
    "    \n",
    "    printf(\"\\nFájl mentve %s néven.\", filename);\n",
    "}"
   ]
  },
  {
   "cell_type": "markdown",
   "id": "dfc21cab-dd40-41c0-8804-bd920a0e4e73",
   "metadata": {},
   "source": [
    "### 1.2 Fájl mentése - tömb esetén"
   ]
  },
  {
   "cell_type": "code",
   "execution_count": 26,
   "id": "b43b23fb-40b8-40ba-b81d-6dbfeb71ce05",
   "metadata": {},
   "outputs": [
    {
     "name": "stdout",
     "output_type": "stream",
     "text": [
      "47 85 17 48 28 83 96 90 87 36 \n",
      "Fájl mentve mentett_fajl_2 néven."
     ]
    }
   ],
   "source": [
    "#include <stdio.h>\n",
    "#include <stdlib.h>\n",
    "#include <time.h>\n",
    "\n",
    "char filename[] = \"mentett_fajl_2\";\n",
    "\n",
    "void generate_matrix(int size, int a[size]) {\n",
    "    for (int i = 0; i < size; i++) {        \n",
    "        a[i] = rand() % 99 + 1;        \n",
    "    }    \n",
    "}\n",
    "\n",
    "void output_matrix(int size, int a[size]) {\n",
    "    for (int i = 0; i < size; i++) {        \n",
    "        printf(\"%2d \", a[i]);        \n",
    "    }    \n",
    "}\n",
    "\n",
    "void save_matrix(int size, int a[size]) {\n",
    "    FILE *file;    \n",
    "    file = fopen(filename,\"w\");\n",
    "    \n",
    "    for (int i=0; i<size; i++) {        \n",
    "            fprintf(file, \"%d \", a[i]);        \n",
    "    }\n",
    "    fclose(file);   \n",
    "}\n",
    "\n",
    "int main() {\n",
    "    const int N = 10;    \n",
    "    srand(time(NULL));    \n",
    "    int matrix[N];\n",
    "    \n",
    "    generate_matrix(N, matrix);\n",
    "    output_matrix(N, matrix);\n",
    "    save_matrix(N, matrix);\n",
    "    printf(\"\\nFájl mentve %s néven.\", filename);\n",
    "}"
   ]
  },
  {
   "cell_type": "markdown",
   "id": "f2260313-fa17-4e12-a8fe-f218fb2ced3f",
   "metadata": {},
   "source": [
    "### 1.3 Fájl mentése - mátrix esetén"
   ]
  },
  {
   "cell_type": "code",
   "execution_count": 27,
   "id": "c94da41b-05b2-4b47-96d2-08be5d9cea2c",
   "metadata": {},
   "outputs": [
    {
     "name": "stdout",
     "output_type": "stream",
     "text": [
      "52 57 29 41 36 55 37 75  9 55 \n",
      "84 84 57 43 31 15 26 35 57 78 \n",
      "91 89 73  8 38 25  8 65 84  3 \n",
      "54 34 59 82 75 94 37 12 67 43 \n",
      "66 51 27 24 93 56 36 17 90 92 \n",
      "92 80 81 65 85 18 88 90 82 72 \n",
      "92 36  6 49 19 80 43 53 90 10 \n",
      "96 56 60 21 77 52 76 13 68 65 \n",
      " 3 61 43 82 24 26 99 12 16 81 \n",
      "81  6 16 87 54 34 65 96 84 53 \n",
      "\n",
      "Fájl mentve mentett_fajl_3 néven."
     ]
    }
   ],
   "source": [
    "#include <stdio.h>\n",
    "#include <stdlib.h>\n",
    "#include <time.h>\n",
    "\n",
    "char filename[] = \"mentett_fajl_3\";\n",
    "\n",
    "void generate_matrix(int row, int col, int a[row][col]) {\n",
    "    for (int i = 0; i < row; i++) {\n",
    "        for (int j = 0; j < col; j++) {\n",
    "            a[i][j] = rand() % 99 + 1;\n",
    "        }\n",
    "    }    \n",
    "}\n",
    "\n",
    "void output_matrix(int row, int col, int a[row][col]) {\n",
    "    for (int i = 0; i < row; i++) {\n",
    "        for (int j = 0; j < col; j++) {\n",
    "            printf(\"%2d \", a[i][j]);\n",
    "        }\n",
    "        printf(\"\\n\");\n",
    "    }    \n",
    "}\n",
    "\n",
    "void save_matrix(int row, int col, int a[row][col]) {\n",
    "    FILE *file;\n",
    "    file = fopen(filename, \"w\");\n",
    "    \n",
    "    for (int i=0; i<row; i++) {\n",
    "        for (int j=0; j<col; j++) {\n",
    "            fprintf(file, \"%d \", a[i][j]);\n",
    "        }\n",
    "        fprintf(file, \"\\n\");\n",
    "    }\n",
    "    fclose(file);   \n",
    "}\n",
    "\n",
    "int main() {\n",
    "    const int N = 10;\n",
    "    const int M = 10;\n",
    "    srand(time(NULL));    \n",
    "    int matrix[N][M];\n",
    "    \n",
    "    generate_matrix(N, M, matrix);\n",
    "    output_matrix(N, M, matrix);\n",
    "    save_matrix(N, M, matrix);\n",
    "    printf(\"\\nFájl mentve %s néven.\", filename);\n",
    "}"
   ]
  },
  {
   "cell_type": "markdown",
   "id": "0dfae115-32b8-4b7e-a9bc-36b8a3b232a6",
   "metadata": {},
   "source": [
    "## 2. Fájl beolvasása"
   ]
  },
  {
   "cell_type": "markdown",
   "id": "9d1e2c4d-7420-414d-a365-869758974443",
   "metadata": {},
   "source": [
    "### 2.1 Fájl beolvasása - változó esetén"
   ]
  },
  {
   "cell_type": "code",
   "execution_count": 43,
   "id": "f9d02853-6c31-4182-9b6a-b988a8b4636a",
   "metadata": {},
   "outputs": [
    {
     "name": "stdout",
     "output_type": "stream",
     "text": [
      "mentett_fajl_1 nevű fájl beolvasva:\n",
      "\n",
      "16"
     ]
    }
   ],
   "source": [
    "#include <stdio.h>\n",
    "\n",
    "\n",
    "int main() {              \n",
    "    int var;\n",
    "    char savefile[] = \"mentett_fajl_1\";\n",
    "    \n",
    "    FILE *file;\n",
    "    file = fopen(savefile,\"r\");    \n",
    "    fscanf(file, \"%d\", &var); \n",
    "    fclose (file);\n",
    "    \n",
    "    printf(\"%s nevű fájl beolvasva:\\n\\n\", savefile);\n",
    "    printf(\"%d\", var);\n",
    "        \n",
    "}"
   ]
  },
  {
   "cell_type": "markdown",
   "id": "f794a02b-0030-4c65-84b9-c9c53c25bebe",
   "metadata": {},
   "source": [
    "### 2.2 Fájl beolvasása - tömb esetén"
   ]
  },
  {
   "cell_type": "code",
   "execution_count": 39,
   "id": "22e35fc8-d286-4539-8b36-e151daeea619",
   "metadata": {},
   "outputs": [
    {
     "name": "stdout",
     "output_type": "stream",
     "text": [
      "mentett_fajl_2 nevű fájl beolvasva:\n",
      "\n",
      "47 85 17 48 28 83 96 90 87 36 "
     ]
    }
   ],
   "source": [
    "#include <stdio.h>\n",
    "\n",
    "char savefile[] = \"mentett_fajl_2\";\n",
    "\n",
    "void output_array(int N, int a[N]) {\n",
    "    for (int i = 0; i < N; i++) {\n",
    "        printf(\"%2d \", a[i]);        \n",
    "    }    \n",
    "}\n",
    "\n",
    "void load_array(int N, int a[N]){\n",
    "    FILE *file;    \n",
    "   \n",
    "    file = fopen(savefile,\"r\");\n",
    "    for (int i=0; i< N; i++){\n",
    "         fscanf(file, \"%d\", &a[i]);        \n",
    "    }\n",
    "    fclose (file);\n",
    "}\n",
    "\n",
    "int main() {\n",
    "    const int N = 10;            \n",
    "    int array[N];\n",
    "    \n",
    "    load_array(N, array);\n",
    "    printf(\"%s nevű fájl beolvasva:\\n\\n\", savefile);\n",
    "    output_array(N, array);    \n",
    "}"
   ]
  },
  {
   "cell_type": "markdown",
   "id": "0c1b21d0-f3f9-4e3b-b27d-caf0ce64a798",
   "metadata": {},
   "source": [
    "### 2.3 Fájl beolvasása - mátrix esetén"
   ]
  },
  {
   "cell_type": "code",
   "execution_count": 36,
   "id": "200cdb7a-54e0-42d4-8ab5-819bae9e7ec3",
   "metadata": {},
   "outputs": [
    {
     "name": "stdout",
     "output_type": "stream",
     "text": [
      "mentett_fajl_3 nevű fájl beolvasva:\n",
      "\n",
      "52 57 29 41 36 55 37 75  9 55 \n",
      "84 84 57 43 31 15 26 35 57 78 \n",
      "91 89 73  8 38 25  8 65 84  3 \n",
      "54 34 59 82 75 94 37 12 67 43 \n",
      "66 51 27 24 93 56 36 17 90 92 \n",
      "92 80 81 65 85 18 88 90 82 72 \n",
      "92 36  6 49 19 80 43 53 90 10 \n",
      "96 56 60 21 77 52 76 13 68 65 \n",
      " 3 61 43 82 24 26 99 12 16 81 \n",
      "81  6 16 87 54 34 65 96 84 53 \n"
     ]
    }
   ],
   "source": [
    "#include <stdio.h>\n",
    "\n",
    "char savefile[] = \"mentett_fajl_3\";\n",
    "\n",
    "void output_matrix(int row, int col, int a[row][col]) {\n",
    "    for (int i = 0; i < row; i++) {\n",
    "        for (int j = 0; j < col; j++) {\n",
    "            printf(\"%2d \", a[i][j]);\n",
    "        }\n",
    "        printf(\"\\n\");\n",
    "    }    \n",
    "}\n",
    "\n",
    "void load_matrix(int row, int col, int a[row][col]){\n",
    "    FILE *file;    \n",
    "   \n",
    "    file = fopen(savefile,\"r\");\n",
    "    for (int i=0; i<row; i++){\n",
    "        for (int j=0; j<col; j++) {\n",
    "            fscanf(file, \"%d\", &a[i][j]);\n",
    "        }\n",
    "    }\n",
    "    fclose (file);\n",
    "}\n",
    "\n",
    "int main() {\n",
    "    const int N = 10;\n",
    "    const int M = 10;        \n",
    "    int matrix[N][M];\n",
    "    \n",
    "    load_matrix(N, M, matrix);\n",
    "    printf(\"%s nevű fájl beolvasva:\\n\\n\", savefile);\n",
    "    output_matrix(N, M, matrix);    \n",
    "}"
   ]
  },
  {
   "cell_type": "code",
   "execution_count": null,
   "id": "5bda6feb-2857-4523-80cc-93dcb62464ff",
   "metadata": {},
   "outputs": [],
   "source": []
  }
 ],
 "metadata": {
  "kernelspec": {
   "display_name": "C",
   "language": "c",
   "name": "c"
  },
  "language_info": {
   "file_extension": ".c",
   "mimetype": "text/x-csrc",
   "name": "text/x-csrc"
  }
 },
 "nbformat": 4,
 "nbformat_minor": 5
}
