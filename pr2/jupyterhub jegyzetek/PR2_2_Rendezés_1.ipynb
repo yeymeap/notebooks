{
 "cells": [
  {
   "cell_type": "markdown",
   "id": "4a71e2a1-a2c8-452a-91ce-c8342292faba",
   "metadata": {},
   "source": [
    "# Rendezési algoritmusok"
   ]
  },
  {
   "cell_type": "markdown",
   "id": "b0c0a772-c980-4717-88aa-6ab196347da0",
   "metadata": {
    "tags": []
   },
   "source": [
    "## 1. Simple Sort - Egyszerű rendezés"
   ]
  },
  {
   "cell_type": "markdown",
   "id": "586a4aba-bc50-4268-b955-a3d26481fe86",
   "metadata": {},
   "source": [
    "Ez az algoritmus sorban haladva egy elemhez hasonlítja az összes többit. Ha kisebbet talál, felcseréli őket."
   ]
  },
  {
   "cell_type": "markdown",
   "id": "f5f7cf38-c87a-41a5-8c3f-6d53844d5c2a",
   "metadata": {
    "tags": []
   },
   "source": [
    "### Egyszerű megoldás"
   ]
  },
  {
   "cell_type": "code",
   "execution_count": 1,
   "id": "dfa53b37-1c52-4451-821b-47a93278e67f",
   "metadata": {},
   "outputs": [
    {
     "name": "stdout",
     "output_type": "stream",
     "text": [
      "Egyszerű cserés rendezés:\n",
      "5, 12, 4, 7, 8, 2, 6, 1, 3, 9, \n",
      "1, 2, 3, 4, 5, 6, 7, 8, 9, 12, \n"
     ]
    }
   ],
   "source": [
    "#include <stdio.h>\n",
    "\n",
    "int main() {    \n",
    "    int a[10] = {5, 12, 4, 7, 8, 2, 6, 1, 3, 9};        \n",
    "    printf(\"Egyszerű cserés rendezés:\\n\");\n",
    "    \n",
    "    for (int i=0; i<10; i++) {\n",
    "        printf(\"%d, \", a[i]);\n",
    "    }\n",
    "    printf(\"\\n\");\n",
    "    \n",
    "    for (int i=0; i<10-1; i++) {\n",
    "        for (int j=i+1; j<10; j++) {\n",
    "            if (a[i]>a[j]) {\n",
    "                int tmp = a[i];\n",
    "                a[i] = a[j];\n",
    "                a[j] = tmp;\n",
    "            }\n",
    "        }\n",
    "    }\n",
    "    \n",
    "    for (int i=0; i<10; i++) {\n",
    "        printf(\"%d, \", a[i]);\n",
    "    }\n",
    "    printf(\"\\n\");\n",
    "    \n",
    "}"
   ]
  },
  {
   "cell_type": "markdown",
   "id": "fa516c4b-3ebd-4b7b-b2c9-97ddeb1ebd02",
   "metadata": {
    "tags": []
   },
   "source": [
    "### Függvényekkel"
   ]
  },
  {
   "cell_type": "code",
   "execution_count": 2,
   "id": "1d614c81-7fc7-47e6-bfa4-bfd423bdec74",
   "metadata": {
    "tags": []
   },
   "outputs": [
    {
     "name": "stdout",
     "output_type": "stream",
     "text": [
      "Egyszerű cserés rendezés:\n",
      "23, 95, 84, 63, 99, 81, 30, 85, 71, 78, 96, 65, 81, 36, 55, 43, 28, 41, 32, 52, \n",
      "23, 28, 30, 32, 36, 41, 43, 52, 55, 63, 65, 71, 78, 81, 81, 84, 85, 95, 96, 99, \n"
     ]
    }
   ],
   "source": [
    "#include <stdio.h>\n",
    "#include <stdlib.h>\n",
    "#include <time.h>\n",
    "\n",
    "void generalas(int t[], int meret) {\n",
    "    for (int i = 0; i < meret; i++) {\n",
    "        t[i] = rand() % 100;\n",
    "    }\n",
    "}\n",
    "\n",
    "void kiiras(int t[], int meret) {\n",
    "    for (int i = 0; i < meret; i++) {\n",
    "        printf(\"%d, \", t[i]);\n",
    "    }\n",
    "    printf(\"\\n\");\n",
    "}\n",
    "\n",
    "void simplesort(int t[], int meret) {\n",
    "    for (int i = 0; i < meret - 1; i++) {\n",
    "        for (int j = i + 1; j < meret; j++) {\n",
    "            if (t[i] > t[j]) {\n",
    "                int tmp = t[i];\n",
    "                t[i] = t[j];\n",
    "                t[j] = tmp;\n",
    "            }\n",
    "        }\n",
    "    }\n",
    "}\n",
    "\n",
    "int main() {\n",
    "    const int N = 20;\n",
    "    int a[N];\n",
    "    srand(time(NULL));    \n",
    "    printf(\"Egyszerű cserés rendezés:\\n\");\n",
    "    generalas(a,N);\n",
    "    kiiras(a,N);\n",
    "    simplesort(a,N);\n",
    "    kiiras(a,N);\n",
    "}\n"
   ]
  },
  {
   "cell_type": "markdown",
   "id": "ef98a45b-cc84-43a4-8d72-6ba0a0ff962d",
   "metadata": {},
   "source": [
    "### Összehasonlítások és cserék számának figyelése"
   ]
  },
  {
   "cell_type": "markdown",
   "id": "6ed35706-2aa7-49ba-8548-9e0bd930fd21",
   "metadata": {},
   "source": [
    "Egyszerű rendezési algoritmusok effektivitásának fő mércéje az elvégzett összehasonlítások és cserék száma."
   ]
  },
  {
   "cell_type": "code",
   "execution_count": 3,
   "id": "fcb777b1-d6d9-405c-9178-879b72f30022",
   "metadata": {
    "tags": []
   },
   "outputs": [
    {
     "name": "stdout",
     "output_type": "stream",
     "text": [
      "Egyszerű cserés rendezés:\n",
      "23, 95, 84, 63, 99, 81, 30, 85, 71, 78, 96, 65, 81, 36, 55, 43, 28, 41, 32, 52, \n",
      "23, 28, 30, 32, 36, 41, 43, 52, 55, 63, 65, 71, 78, 81, 81, 84, 85, 95, 96, 99, \n",
      "Összehasonlítások száma: 190\n",
      "Cserék száma: 119"
     ]
    }
   ],
   "source": [
    "#include <stdio.h>\n",
    "#include <stdlib.h>\n",
    "#include <time.h>\n",
    "\n",
    "int swap = 0, compare = 0; \n",
    "\n",
    "void generate(int t[], int size) {\n",
    "    for (int i = 0; i < size; i++) {\n",
    "        t[i] = rand() % 100;\n",
    "    }\n",
    "}\n",
    "\n",
    "void output(int t[], int size) {\n",
    "    for (int i = 0; i < size; i++) {\n",
    "        printf(\"%d, \", t[i]);\n",
    "    }\n",
    "    printf(\"\\n\");\n",
    "}\n",
    "\n",
    "void simplesort(int t[], int size) {\n",
    "    for (int i = 0; i < size - 1; i++) {\n",
    "        for (int j = i + 1; j < size; j++) {            \n",
    "            compare++;\n",
    "            if (t[i] > t[j]) {\n",
    "                int tmp = t[i];\n",
    "                t[i] = t[j];\n",
    "                t[j] = tmp;\n",
    "                swap++;\n",
    "            }            \n",
    "        }\n",
    "    }\n",
    "}\n",
    "\n",
    "int main() {\n",
    "    const int N = 20;\n",
    "    int a[N];\n",
    "    srand(time(NULL));    \n",
    "    printf(\"Egyszerű cserés rendezés:\\n\");\n",
    "    generate(a,N);\n",
    "    output(a,N);\n",
    "    simplesort(a,N);\n",
    "    output(a,N);\n",
    "    printf(\"Összehasonlítások száma: %d\\nCserék száma: %d\", compare, swap);\n",
    "}\n"
   ]
  },
  {
   "cell_type": "markdown",
   "id": "cbd36030-89a1-476c-b840-88096a9e8589",
   "metadata": {
    "tags": []
   },
   "source": [
    "## 2. Bubble Sort - Buborék rendezés"
   ]
  },
  {
   "cell_type": "markdown",
   "id": "8e630947-5500-4f22-8372-6acd427d48d4",
   "metadata": {},
   "source": [
    "Két szomszédos elem szükség esetén történő felcserélésével jut rendezett állapotba."
   ]
  },
  {
   "cell_type": "code",
   "execution_count": 4,
   "id": "8d25ec86-c8e7-4ee9-9d8c-4827f98ccf89",
   "metadata": {},
   "outputs": [
    {
     "name": "stdout",
     "output_type": "stream",
     "text": [
      "Buborék rendezés:\n",
      "88, 53, 2, 65, 27, 74, 52, 34, 18, 35, 69, 30, 5, 58, 32, 21, 47, 42, 98, 27, \n",
      "2, 5, 18, 21, 27, 27, 30, 32, 34, 35, 42, 47, 52, 53, 58, 65, 69, 74, 88, 98, \n",
      "Összehasonlítások száma: 190\n",
      "Cserék száma: 104"
     ]
    }
   ],
   "source": [
    "#include <stdio.h>\n",
    "#include <stdlib.h>\n",
    "#include <time.h>\n",
    "\n",
    "int swap = 0, compare = 0; \n",
    "\n",
    "void generate(int t[], int size) {\n",
    "    for (int i = 0; i < size; i++) {\n",
    "        t[i] = rand() % 100;\n",
    "    }\n",
    "}\n",
    "\n",
    "void output(int t[], int size) {\n",
    "    for (int i = 0; i < size; i++) {\n",
    "        printf(\"%d, \", t[i]);\n",
    "    }\n",
    "    printf(\"\\n\");\n",
    "}\n",
    "\n",
    "void bubblesort(int t[], int size) {\n",
    "    for (int i = size-1; i > 0; i--) {\n",
    "        for (int j = 0; j < i; j++) {\n",
    "            compare++;\n",
    "            if (t[j] > t[j + 1]) {\n",
    "                int tmp = t[j];\n",
    "                t[j] = t[j + 1];\n",
    "                t[j + 1] = tmp;\n",
    "                swap++;\n",
    "            }            \n",
    "        }\n",
    "    }\n",
    "}\n",
    "\n",
    "int main() {\n",
    "    const int N = 20;\n",
    "    int a[N];\n",
    "    srand(time(NULL));    \n",
    "    printf(\"Buborék rendezés:\\n\");\n",
    "    generate(a,N);\n",
    "    output(a,N);\n",
    "    bubblesort(a,N);\n",
    "    output(a,N);\n",
    "    printf(\"Összehasonlítások száma: %d\\nCserék száma: %d\", compare, swap);\n",
    "}"
   ]
  },
  {
   "cell_type": "markdown",
   "id": "d40496ff-be12-4486-a5a5-f310f1ab33c3",
   "metadata": {
    "tags": []
   },
   "source": [
    "## 3. Insertion Sort - Beszúró rendezés"
   ]
  },
  {
   "cell_type": "code",
   "execution_count": 5,
   "id": "a7c1f0e5-b909-4ed2-972c-87b3d5e8f3aa",
   "metadata": {},
   "outputs": [
    {
     "name": "stdout",
     "output_type": "stream",
     "text": [
      "Beszúró rendezés:\n",
      "88, 53, 2, 65, 27, 74, 52, 34, 18, 35, 69, 30, 5, 58, 32, 21, 47, 42, 98, 27, \n",
      "2, 5, 18, 21, 27, 27, 30, 32, 34, 35, 42, 47, 52, 53, 58, 65, 69, 74, 88, 98, \n",
      "Összehasonlítások száma: 104\n",
      "Cserék száma: 104"
     ]
    }
   ],
   "source": [
    "#include <stdio.h>\n",
    "#include <stdlib.h>\n",
    "#include <time.h>\n",
    "\n",
    "int swap = 0, compare = 0; \n",
    "\n",
    "void generate(int t[], int size) {\n",
    "    for (int i = 0; i < size; i++) {\n",
    "        t[i] = rand() % 100;\n",
    "    }\n",
    "}\n",
    "\n",
    "void output(int t[], int size) {\n",
    "    for (int i = 0; i < size; i++) {\n",
    "        printf(\"%d, \", t[i]);\n",
    "    }\n",
    "    printf(\"\\n\");\n",
    "}\n",
    "\n",
    "void insertsort(int t[], int size) {\n",
    "    for (int i=1; i<size; i++) {\n",
    "        int j=i-1;        \n",
    "        while (j>=0 && t[j]>t[j+1]) {\n",
    "            int tmp = t[j];\n",
    "            t[j] = t[j+1];\n",
    "            t[j+1] = tmp;\n",
    "            j--;\n",
    "            swap++;\n",
    "            compare++;\n",
    "        }        \n",
    "    }\n",
    "}\n",
    "\n",
    "int main() {\n",
    "    const int N = 20;\n",
    "    int a[N];\n",
    "    srand(time(NULL));    \n",
    "    printf(\"Beszúró rendezés:\\n\");\n",
    "    generate(a,N);\n",
    "    output(a,N);\n",
    "    insertsort(a,N);\n",
    "    output(a,N);\n",
    "    printf(\"Összehasonlítások száma: %d\\nCserék száma: %d\", compare, swap);\n",
    "}"
   ]
  },
  {
   "cell_type": "markdown",
   "id": "d3f370e3-dbf2-419e-a5b9-945593f7b58b",
   "metadata": {
    "tags": []
   },
   "source": [
    "## 4. Minsort - Legkisebb elem szerinti rendezés"
   ]
  },
  {
   "cell_type": "code",
   "execution_count": 6,
   "id": "1e6ca427-c814-48aa-9f73-7c112a163920",
   "metadata": {},
   "outputs": [
    {
     "name": "stdout",
     "output_type": "stream",
     "text": [
      "Legkisebb elem szerinti rendezés:\n",
      "88, 53, 2, 65, 27, 74, 52, 34, 18, 35, 69, 30, 5, 58, 32, 21, 47, 42, 98, 27, \n",
      "2, 5, 18, 21, 27, 27, 30, 32, 34, 35, 42, 47, 52, 53, 58, 65, 69, 74, 88, 98, \n",
      "Összehasonlítások száma: 190\n",
      "Cserék száma: 19"
     ]
    }
   ],
   "source": [
    "#include <stdio.h>\n",
    "#include <stdlib.h>\n",
    "#include <time.h>\n",
    "\n",
    "int swap = 0, compare = 0; \n",
    "\n",
    "void generate(int t[], int size) {\n",
    "    for (int i = 0; i < size; i++) {\n",
    "        t[i] = rand() % 100;\n",
    "    }\n",
    "}\n",
    "\n",
    "void output(int t[], int size) {\n",
    "    for (int i = 0; i < size; i++) {\n",
    "        printf(\"%d, \", t[i]);\n",
    "    }\n",
    "    printf(\"\\n\");\n",
    "}\n",
    "\n",
    "void minsort(int t[], int size) {\n",
    "    for (int i=0; i < size-1; i++) {\n",
    "        int min = i;\n",
    "        for (int j=i+1; j < size; j++) {\n",
    "            compare++;\n",
    "            if (t[j] < t[min]) {\n",
    "                min = j;                \n",
    "            }\n",
    "        } \n",
    "        int tmp = t[i];\n",
    "        t[i] = t[min];\n",
    "        t[min] = tmp;\n",
    "        swap++;\n",
    "    }\n",
    "}\n",
    "\n",
    "int main() {\n",
    "    const int N = 20;\n",
    "    int a[N];\n",
    "    srand(time(NULL));    \n",
    "    printf(\"Legkisebb elem szerinti rendezés:\\n\");\n",
    "    generate(a,N);\n",
    "    output(a,N);\n",
    "    minsort(a,N);\n",
    "    output(a,N);\n",
    "    printf(\"Összehasonlítások száma: %d\\nCserék száma: %d\", compare, swap);\n",
    "}"
   ]
  }
 ],
 "metadata": {
  "kernelspec": {
   "display_name": "C",
   "language": "c",
   "name": "c"
  },
  "language_info": {
   "file_extension": ".c",
   "mimetype": "text/x-csrc",
   "name": "text/x-csrc"
  }
 },
 "nbformat": 4,
 "nbformat_minor": 5
}
