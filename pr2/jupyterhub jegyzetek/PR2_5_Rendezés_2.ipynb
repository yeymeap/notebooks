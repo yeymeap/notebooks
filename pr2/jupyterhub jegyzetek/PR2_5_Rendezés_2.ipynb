{
 "cells": [
  {
   "cell_type": "markdown",
   "id": "fc199b82-c1d5-4b33-be73-19ed2c37acc7",
   "metadata": {},
   "source": [
    "# Rendezési algoritmusok"
   ]
  },
  {
   "cell_type": "markdown",
   "id": "0a82f06c-3a3a-470e-a483-3b6a56fa7fec",
   "metadata": {
    "jp-MarkdownHeadingCollapsed": true,
    "tags": []
   },
   "source": [
    "## 1. Quick Sort - Gyorsrendezés\n",
    "\n",
    "https://www.geeksforgeeks.org/quick-sort/"
   ]
  },
  {
   "cell_type": "code",
   "execution_count": 9,
   "id": "0d022e11-ac4a-46ba-95af-33c96cc566b8",
   "metadata": {},
   "outputs": [
    {
     "name": "stdout",
     "output_type": "stream",
     "text": [
      "Gyorsrendezés\n",
      "Kiindulási állapot: \n",
      "21  89  79  30  76  46  85  59  80  80  45  63  61  76  32  46  4  43  47  27  \n",
      "\n",
      "Rendezett állapot: \n",
      "4  21  27  30  32  43  45  46  46  47  59  61  63  76  76  79  80  80  85  89  \n"
     ]
    }
   ],
   "source": [
    "#include <stdio.h>\n",
    "#include <stdlib.h>\n",
    "#include <time.h>\n",
    "\n",
    "void generate(int t[], int size) {\n",
    "    for (int i=0; i<size; i++) {\n",
    "        t[i] = rand() % 100;\n",
    "    }\n",
    "}\n",
    "\n",
    "void output(int t[], int size) {\n",
    "    for (int i = 0; i < size; i++) {\n",
    "        printf(\"%d  \", t[i]);\n",
    "    }\n",
    "    printf(\"\\n\");\n",
    "}\n",
    "\n",
    "void quicksort(int t[], int start, int end) {\n",
    "    int i = start;\n",
    "    int j = end;\n",
    "    int pivot = t[(i + j)/2];\n",
    "    while (i <= j) {        \n",
    "        while (t[i] < pivot) {\n",
    "            i++;            \n",
    "        }\n",
    "        while (t[j] > pivot) {\n",
    "            j--;           \n",
    "        }\n",
    "        if (i <= j) {\n",
    "            int tmp = t[i];\n",
    "            t[i] = t[j];\n",
    "            t[j] = tmp;\n",
    "            i++;\n",
    "            j--;\n",
    "        }\n",
    "    }\n",
    "    if (start < j) {\n",
    "        quicksort(t,start,j);\n",
    "    }\n",
    "    if (i < end) {\n",
    "        quicksort(t,i,end);\n",
    "    }\n",
    "}\n",
    "\n",
    "int main() {\n",
    "    const int N = 20; \n",
    "    int a[N];\n",
    "    srand(time(NULL));\n",
    "    printf(\"Gyorsrendezés\");\n",
    "    generate(a,N);\n",
    "    printf(\"\\nKiindulási állapot: \\n\");\n",
    "    output(a,N);\n",
    "    quicksort(a,0,N-1);\n",
    "    printf(\"\\nRendezett állapot: \\n\");\n",
    "    output(a,N);\n",
    "}"
   ]
  },
  {
   "cell_type": "markdown",
   "id": "42777e03-0abb-4170-91cb-f0ac83b38450",
   "metadata": {
    "jp-MarkdownHeadingCollapsed": true,
    "tags": []
   },
   "source": [
    "## 2. Merge Sort - Összefésülő rendezés\n",
    "\n",
    "https://www.geeksforgeeks.org/merge-sort/"
   ]
  },
  {
   "cell_type": "code",
   "execution_count": 15,
   "id": "25339353-5899-49f7-a883-7dd920ea815c",
   "metadata": {},
   "outputs": [
    {
     "name": "stdout",
     "output_type": "stream",
     "text": [
      "Összefésülő rendezés\n",
      "Kiindulási állapot: \n",
      "2  3  99  16  5  13  90  23  40  44  \n",
      "\n",
      "Rendezett állapot: \n",
      "2  3  5  13  16  23  40  44  90  99  \n"
     ]
    }
   ],
   "source": [
    "#include <stdio.h>\n",
    "#include <stdlib.h>\n",
    "#include <time.h>\n",
    "\n",
    "void generate(int t[], int size) {\n",
    "    for (int i=0; i<size; i++) {\n",
    "        t[i] = rand() % 100;\n",
    "    }\n",
    "}\n",
    "\n",
    "void output(int t[], int size) {\n",
    "    for (int i=0; i<size; i++) {\n",
    "        printf(\"%d  \", t[i]);\n",
    "    }\n",
    "    printf(\"\\n\");\n",
    "}\n",
    "\n",
    "void mergesort(int t[], int start, int end, int x[]) {\n",
    "    if (start<end) {        \n",
    "        int m = (start+end)/2;\n",
    "        mergesort(t,start,m,x);\n",
    "        mergesort(t,m+1,end,x);\n",
    "        for (int i=start; i<=m; i++) {\n",
    "            x[i] = t[i];            \n",
    "        }\n",
    "        int j = end;\n",
    "        for (int i=m+1; i<=end; i++) {\n",
    "            x[j] = t[i];\n",
    "            j--;          \n",
    "        }\n",
    "        int i = start;\n",
    "        j = end;\n",
    "        for (int k=start; k<=end; k++) {            \n",
    "            if (x[i]<x[j]) {\n",
    "                t[k] = x[i];\n",
    "                i++;                \n",
    "            }            \n",
    "            else {\n",
    "                t[k] = x[j];\n",
    "                j--;\n",
    "            }\n",
    "        }\n",
    "    }\n",
    "}\n",
    "\n",
    "int main() {\n",
    "    const int N = 10; \n",
    "    int a[N], b[N];\n",
    "    srand(time(NULL));\n",
    "    printf(\"Összefésülő rendezés\");\n",
    "    generate(a,N);\n",
    "    printf(\"\\nKiindulási állapot: \\n\");\n",
    "    output(a,N);\n",
    "    mergesort(a,0,N-1,b);\n",
    "    printf(\"\\nRendezett állapot: \\n\");\n",
    "    output(a,N);    \n",
    "}"
   ]
  },
  {
   "cell_type": "code",
   "execution_count": null,
   "id": "0c4addd1-0358-4aa4-a1ac-008a86d2aa41",
   "metadata": {},
   "outputs": [],
   "source": []
  }
 ],
 "metadata": {
  "kernelspec": {
   "display_name": "C",
   "language": "c",
   "name": "c"
  },
  "language_info": {
   "file_extension": ".c",
   "mimetype": "text/x-csrc",
   "name": "text/x-csrc"
  }
 },
 "nbformat": 4,
 "nbformat_minor": 5
}
