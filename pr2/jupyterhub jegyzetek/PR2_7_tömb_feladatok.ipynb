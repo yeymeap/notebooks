{
 "cells": [
  {
   "cell_type": "markdown",
   "id": "db044873-4477-4988-97be-f2d6a942a174",
   "metadata": {},
   "source": [
    "## 1. Feladat\n",
    "\n",
    "1. Hozzon létre 20-elemű tömböt.\n",
    "2. Töltse fel 1-100 közötti véletlen egész számokkal.\n",
    "3. Írassa ki a tömb összegét, átlagát, legkisebb és legnagyobb értékét.\n"
   ]
  },
  {
   "cell_type": "markdown",
   "id": "1d768c1c-4ac6-4488-a941-a0b3911cbb27",
   "metadata": {},
   "source": [
    "## 2. Feladat\n",
    "\n",
    "1. A programunkban vegyünk fel egy N konstanst, amely a tömbök elemszámait jelölje (pl.N=50).\n",
    "2. Hozzunk létre N-elemű, egész szám típusú x, y tömböket.\n",
    "3. Töltsük fel az x tömböt -100 és 100 közötti véletlen számokkal.\n",
    "4. Nézzük végig sorban az x tömb elemeit, majd a párosakat rakjuk át az y tömb elejére, a páratlanokat az y tömb végére.\n",
    "5. A páros és páratlan számokat rendezzük beszúró rendezéssel növekvő sorrendbe."
   ]
  },
  {
   "cell_type": "markdown",
   "id": "0654bd8c-a3c9-415f-988d-30af1ca64659",
   "metadata": {},
   "source": [
    "## 3. Feladat\n",
    "\n",
    "1. Hozzon létre három 20-elemű tömböt (x, y, z)!\n",
    "2. Az x és y tömböt töltse fel 1–50 közötti véletlen számokkal! Írja ki az x és y tömböt a képernyőre.\n",
    "3. Rendezze az x és y tömb elemeit egyszerű cserés rendezéssel csökkenő sorrendbe! Írja ki ismét az x és y tömböt a képernyőre!\n",
    "4. A z tömbbe számolja ki az x és y tömb elemeinek összegét, mindig ugyanazon indexű elemeket összeadva (tehát pl. a z tömb első eleme az x és y tömb első elemének összegével lesz egyenlő)! Írja ki a z tömböt a képernyőre!\n",
    "5. Határozza meg és írja ki a lehető legegyszerűbb módon a z tömb legkisebb és legnagyobb elemének értékét a képernyőre!"
   ]
  },
  {
   "cell_type": "markdown",
   "id": "e7a78be2-215e-417e-bfef-1d5014151dc4",
   "metadata": {
    "tags": []
   },
   "source": [
    "## 4. Feladat\n",
    "\n",
    "1. Készítsen egy N hosszúságú tömböt (pl.: N = 10).\n",
    "2. A tömböt töltse fel véletlenszerűen az angol ABC nagy betűivel.\n",
    "3. Írassa ki a tömböt.\n",
    "4. Rendezze a tömböt tetszőleges rendezési algoritmussal.\n",
    "5. Írassa ki a rendezett tömböt."
   ]
  },
  {
   "cell_type": "markdown",
   "id": "84d2bc64-bd7e-4c5e-b606-20c03093414c",
   "metadata": {
    "tags": []
   },
   "source": [
    "## 5. Feladat\n",
    "\n",
    "1. Készítsen szókitaláló játékot.\n",
    "2. Karakter típusú tömbbe tároljon el egy szót, játék célja ennek kitalálása. \n",
    "3. A felhasználó feladata betűket tippelni. Ha olyan betűt ad meg, ami szerepel a szóban, akkor rögzíti a haladást.\n",
    "4. A felhasználó legyen a lehető legjobban informálva a játék közben."
   ]
  },
  {
   "cell_type": "markdown",
   "id": "517addd9-1f07-42b1-ab0b-a1f9d4807cd7",
   "metadata": {
    "tags": []
   },
   "source": [
    "## 6. Feladat\n",
    "\n",
    "1. Hozzon  20-elemű tömböt.\n",
    "2. Töltse fel 1-100 közötti véletlen egész számokkal.\n",
    "3. Kérjünk be egy 1-100 közötti egész számot, majd keressük meg és írjuk ki, hogy hányadik helyen szerepel a tömbben.\n",
    "4. Ha nincs találat, a program adja meg a kért számhoz legközelebb eső szám értékét és helyét a tömbben.\n",
    "5. Egészítse ki a programot úgy, hogy a program kiírja a keresett értékhez legközelebb eső számot mindkét irányba,"
   ]
  },
  {
   "cell_type": "code",
   "execution_count": null,
   "id": "b38a86ee-fc74-4b7d-9f79-4a50464392f5",
   "metadata": {},
   "outputs": [],
   "source": []
  }
 ],
 "metadata": {
  "kernelspec": {
   "display_name": "C",
   "language": "c",
   "name": "c"
  },
  "language_info": {
   "file_extension": ".c",
   "mimetype": "text/x-csrc",
   "name": "text/x-csrc"
  }
 },
 "nbformat": 4,
 "nbformat_minor": 5
}
