{
 "cells": [
  {
   "cell_type": "markdown",
   "id": "df3e4533-b510-4329-8688-6e2e223f735d",
   "metadata": {
    "tags": []
   },
   "source": [
    "## Feladat: A Hanoi-torony matematikai probléma feltételei\n",
    "<ul>\n",
    "<li>Három torony van</li>\n",
    "<li>A gyűrűk száma n lehet</li>\n",
    "<li>A gyűrűk különböző méretűek</li>\n",
    "<li>Egyszerre csak egy lemezt lehet mozgatni</li>\n",
    "<li>Bármely lemezt csak egy nagyobb lemez tetején lehet mozgatni</li>\n",
    "<li>Csak a legfelső lemezt lehet eltávolítani</li>\n",
    "</ul>\n",
    "\n",
    "https://www.geeksforgeeks.org/c-program-for-tower-of-hanoi/"
   ]
  },
  {
   "cell_type": "markdown",
   "id": "bc87e081-f896-4547-90b5-748979fb4e01",
   "metadata": {},
   "source": [
    "### 1. Megoldás"
   ]
  },
  {
   "cell_type": "markdown",
   "id": "8936472e-c0af-44e1-b4bc-23898a192417",
   "metadata": {},
   "source": [
    "<b>n</b> - korongok száma amit át kell rakni</br>\n",
    "<b>a</b> (honnan) - 1,2,3, melyik rúdról?</br>\n",
    "<b>b</b> (hova) - 1,2,3, melyik rúdra?</br>\n",
    "<b>c</b> (segéd) - 1,2,3, melyik rúd segítségével?</br>\n",
    "\n",
    "```<unistd.h>``` és ```<process.h>``` modulok megközelítőleg ugyanazt a célt szolgálják, de előbbi Linux architektúrán, utóbbi Windowson használható."
   ]
  },
  {
   "cell_type": "code",
   "execution_count": 1,
   "id": "c155d16e-b54f-4a6a-90c4-48e99d9ad797",
   "metadata": {},
   "outputs": [
    {
     "name": "stdout",
     "output_type": "stream",
     "text": [
      "1-rol 3-re: 4 0 1\n",
      "1-rol 2-re: 3 1 1\n",
      "3-rol 2-re: 3 2 0\n",
      "1-rol 3-re: 2 2 1\n",
      "2-rol 1-re: 3 1 1\n",
      "2-rol 3-re: 3 0 2\n",
      "1-rol 3-re: 2 0 3\n",
      "1-rol 2-re: 1 1 3\n",
      "3-rol 2-re: 1 2 2\n",
      "3-rol 1-re: 2 2 1\n",
      "2-rol 1-re: 3 1 1\n",
      "3-rol 2-re: 3 2 0\n",
      "1-rol 3-re: 2 2 1\n",
      "1-rol 2-re: 1 3 1\n",
      "3-rol 2-re: 1 4 0\n",
      "1-rol 3-re: 0 4 1\n",
      "2-rol 1-re: 1 3 1\n",
      "2-rol 3-re: 1 2 2\n",
      "1-rol 3-re: 0 2 3\n",
      "2-rol 1-re: 1 1 3\n",
      "3-rol 2-re: 1 2 2\n",
      "3-rol 1-re: 2 2 1\n",
      "2-rol 1-re: 3 1 1\n",
      "2-rol 3-re: 3 0 2\n",
      "1-rol 3-re: 2 0 3\n",
      "1-rol 2-re: 1 1 3\n",
      "3-rol 2-re: 1 2 2\n",
      "1-rol 3-re: 0 2 3\n",
      "2-rol 1-re: 1 1 3\n",
      "2-rol 3-re: 1 0 4\n",
      "1-rol 3-re: 0 0 5\n"
     ]
    }
   ],
   "source": [
    "#define _CRT_SECURE_NO_WARNINGS  \n",
    "\n",
    "#include <stdio.h>  \n",
    "#include <unistd.h>     //linux esetén\n",
    "//#include <process.h>  //windows esetén\n",
    "\n",
    "int rudak[3] = { 5, 0, 0 };\n",
    "\n",
    "void atrak(int honnan, int hova) {\n",
    "    rudak[honnan - 1]--;\n",
    "    rudak[hova - 1]++;\n",
    "    printf(\"%d-rol %d-re: %d %d %d\\n\", honnan, hova, rudak[0], rudak[1], rudak[2]);\n",
    "}\n",
    "\n",
    "void hanoi(int n, int a, int b, int c) {\n",
    "    if (n > 0) {\n",
    "        hanoi(n - 1, a, c, b);\n",
    "        atrak(a, b);\n",
    "        hanoi(n - 1, c, b, a);\n",
    "    }\n",
    "}\n",
    "\n",
    "int main() {\n",
    "    hanoi(rudak[0],1,3,2);\n",
    "    //system(\"pause\"); windows esetén\n",
    "    return 0;\n",
    "}"
   ]
  },
  {
   "cell_type": "markdown",
   "id": "a6484e7b-1ffe-4871-b855-dd8d2b3032cb",
   "metadata": {},
   "source": [
    "### 2. Megoldás"
   ]
  },
  {
   "cell_type": "markdown",
   "id": "5fad8ed0-1273-49f5-9c13-4061d4e95d9c",
   "metadata": {},
   "source": [
    "<ul>\n",
    "<li>n = korongok száma</li>\n",
    "<li>a = melyik rúdrol (1,2,3)</li>\n",
    "<li>b = melyik rúdra (1,2,3)</li>\n",
    "<li>c = segédrúd (ez meghatározható a,b-ből) (1,2,3)</li>\n",
    "</ul>"
   ]
  },
  {
   "cell_type": "code",
   "execution_count": 2,
   "id": "a6b5c44a-2394-46af-8eb7-18b2ce86774f",
   "metadata": {},
   "outputs": [
    {
     "name": "stdout",
     "output_type": "stream",
     "text": [
      "1. lépés: 1 rúdról 3 rúdra, korongok: 4 0 1\n",
      "2. lépés: 1 rúdról 2 rúdra, korongok: 3 1 1\n",
      "3. lépés: 3 rúdról 2 rúdra, korongok: 3 2 0\n",
      "4. lépés: 1 rúdról 3 rúdra, korongok: 2 2 1\n",
      "5. lépés: 2 rúdról 1 rúdra, korongok: 3 1 1\n",
      "6. lépés: 2 rúdról 3 rúdra, korongok: 3 0 2\n",
      "7. lépés: 1 rúdról 3 rúdra, korongok: 2 0 3\n",
      "8. lépés: 1 rúdról 2 rúdra, korongok: 1 1 3\n",
      "9. lépés: 3 rúdról 2 rúdra, korongok: 1 2 2\n",
      "10. lépés: 3 rúdról 1 rúdra, korongok: 2 2 1\n",
      "11. lépés: 2 rúdról 1 rúdra, korongok: 3 1 1\n",
      "12. lépés: 3 rúdról 2 rúdra, korongok: 3 2 0\n",
      "13. lépés: 1 rúdról 3 rúdra, korongok: 2 2 1\n",
      "14. lépés: 1 rúdról 2 rúdra, korongok: 1 3 1\n",
      "15. lépés: 3 rúdról 2 rúdra, korongok: 1 4 0\n",
      "16. lépés: 1 rúdról 3 rúdra, korongok: 0 4 1\n",
      "17. lépés: 2 rúdról 1 rúdra, korongok: 1 3 1\n",
      "18. lépés: 2 rúdról 3 rúdra, korongok: 1 2 2\n",
      "19. lépés: 1 rúdról 3 rúdra, korongok: 0 2 3\n",
      "20. lépés: 2 rúdról 1 rúdra, korongok: 1 1 3\n",
      "21. lépés: 3 rúdról 2 rúdra, korongok: 1 2 2\n",
      "22. lépés: 3 rúdról 1 rúdra, korongok: 2 2 1\n",
      "23. lépés: 2 rúdról 1 rúdra, korongok: 3 1 1\n",
      "24. lépés: 2 rúdról 3 rúdra, korongok: 3 0 2\n",
      "25. lépés: 1 rúdról 3 rúdra, korongok: 2 0 3\n",
      "26. lépés: 1 rúdról 2 rúdra, korongok: 1 1 3\n",
      "27. lépés: 3 rúdról 2 rúdra, korongok: 1 2 2\n",
      "28. lépés: 1 rúdról 3 rúdra, korongok: 0 2 3\n",
      "29. lépés: 2 rúdról 1 rúdra, korongok: 1 1 3\n",
      "30. lépés: 2 rúdról 3 rúdra, korongok: 1 0 4\n",
      "31. lépés: 1 rúdról 3 rúdra, korongok: 0 0 5\n"
     ]
    }
   ],
   "source": [
    "#define _CRT_SECURE_NO_WARNINGS  \n",
    "\n",
    "#include <stdio.h>\n",
    "#include <unistd.h>     //linux esetén\n",
    "//#include <process.h>  //windows esetén\n",
    "\n",
    "int rudak[3] = { 5, 0, 0 };\n",
    "int lepes = 0;\n",
    "\n",
    "void atrak(int honnan, int hova) {\n",
    "    rudak[honnan - 1]--;\n",
    "    rudak[hova - 1]++;\n",
    "    lepes++;\n",
    "    printf(\"%d. lépés: %d rúdról %d rúdra, korongok: %d %d %d\\n\", lepes, honnan, hova, rudak[0], rudak[1], rudak[2]);\n",
    "}\n",
    "\n",
    "void hanoi(int n, int a, int b) {\n",
    "    int c = 6 - a - b;\n",
    "    if (n>0) {\n",
    "        hanoi(n - 1, a, c);\n",
    "        atrak(a, b); // egy korongot rak át\n",
    "        hanoi(n - 1, c, b);\n",
    "    }\n",
    "}\n",
    "\n",
    "int main() {\n",
    "    hanoi(rudak[0], 1, 3);\n",
    "    //system(\"pause\");\n",
    "    return 0;\n",
    "}"
   ]
  },
  {
   "cell_type": "code",
   "execution_count": null,
   "id": "b2f336e3-508b-4c38-b088-2f6f9dcddb4a",
   "metadata": {},
   "outputs": [],
   "source": []
  }
 ],
 "metadata": {
  "kernelspec": {
   "display_name": "C",
   "language": "c",
   "name": "c"
  },
  "language_info": {
   "file_extension": ".c",
   "mimetype": "text/x-csrc",
   "name": "text/x-csrc"
  }
 },
 "nbformat": 4,
 "nbformat_minor": 5
}
