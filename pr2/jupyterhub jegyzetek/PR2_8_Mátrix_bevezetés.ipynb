{
 "cells": [
  {
   "cell_type": "markdown",
   "id": "2a554297-1d09-4171-bf06-07f69eb7980b",
   "metadata": {},
   "source": [
    "## Mátrix bevezetés"
   ]
  },
  {
   "cell_type": "markdown",
   "id": "5061a563-5fb4-4648-bc17-f336fa04b02b",
   "metadata": {},
   "source": [
    "### 1D tömb deklarálása:"
   ]
  },
  {
   "cell_type": "code",
   "execution_count": 7,
   "id": "400fa1c4-776c-45c4-85d4-655664948a57",
   "metadata": {},
   "outputs": [
    {
     "name": "stdout",
     "output_type": "stream",
     "text": [
      "   1   2   3   4   5\n",
      "\n",
      "   1   2   3   4   5\n"
     ]
    }
   ],
   "source": [
    "#include <stdio.h>\n",
    "\n",
    "void output_array (int x, int a[]) {    \n",
    "    for (int i = 0; i < x; i++) {        \n",
    "        printf(\"%4d\", a[i]);\n",
    "    }\n",
    "    printf(\"\\n\");\n",
    "}\n",
    "\n",
    "int main() {\n",
    "    int N = 5;\n",
    "    int array_1[5] = {1,2,3,4,5};\n",
    "    int array_2[] = {1,2,3,4,5};\n",
    "    \n",
    "    output_array(N, array_1);\n",
    "    printf(\"\\n\");\n",
    "    output_array(N, array_2);\n",
    "}"
   ]
  },
  {
   "cell_type": "markdown",
   "id": "c78f8c55-f933-4b26-81ef-b20b95d983f4",
   "metadata": {},
   "source": [
    "### 2D tömb deklarálása:"
   ]
  },
  {
   "cell_type": "code",
   "execution_count": 13,
   "id": "ece2319d-f365-4462-a529-ebb46bb178f5",
   "metadata": {},
   "outputs": [
    {
     "name": "stdout",
     "output_type": "stream",
     "text": [
      "\n",
      "1 2 \n",
      "3 4 \n",
      "5 4 \n",
      "1 2 \n",
      "1 3 \n",
      "\n",
      "1 2 \n",
      "3 4 \n",
      "5 4 \n",
      "1 2 \n",
      "1 3 \n"
     ]
    }
   ],
   "source": [
    "#include <stdio.h>\n",
    "\n",
    "void output_2d_matrix (int row, int column, int a[row][column]) {    \n",
    "    printf(\"\\n\");\n",
    "    for (int i = 0; i < row; i++) {        \n",
    "        for (int j = 0; j < column; j++) {\n",
    "            printf(\"%d \", a[i][j]);\n",
    "        }        \n",
    "    printf(\"\\n\");\n",
    "    }\n",
    "}\n",
    "\n",
    "int main() {\n",
    "    int N = 5, M = 2;\n",
    "    int array_1[5][2] = {{1,2},\n",
    "                         {3,4},\n",
    "                         {5,4},\n",
    "                         {1,2},\n",
    "                         {1,3}};\n",
    "    int array_2[][2] = {{1,2},{3,4},{5,4},{1,2},{1,3}};                        \n",
    "    output_2d_matrix(N, M, array_1);\n",
    "    output_2d_matrix(N, M, array_2);\n",
    "}"
   ]
  },
  {
   "cell_type": "markdown",
   "id": "0c2eba68-23b4-49fa-ab8b-d799144b9006",
   "metadata": {},
   "source": [
    "### 3D tömb deklarálása:"
   ]
  },
  {
   "cell_type": "code",
   "execution_count": 31,
   "id": "43dfd8b4-28cd-4cc6-8b65-7bb30526571c",
   "metadata": {},
   "outputs": [
    {
     "name": "stdout",
     "output_type": "stream",
     "text": [
      "1 2 3 \n",
      "3 4 5 \n",
      "\n",
      "5 4 3 \n",
      "1 2 3 \n",
      "\n",
      "1 3 2 \n",
      "1 2 3 \n",
      "\n",
      "6 7 8 \n",
      "8 9 5 \n",
      "\n",
      "4 3 2 \n",
      "1 2 3 \n",
      "\n",
      "\n",
      "1 2 3 \n",
      "3 4 5 \n",
      "\n",
      "5 4 3 \n",
      "1 2 3 \n",
      "\n",
      "1 3 2 \n",
      "1 2 3 \n",
      "\n",
      "6 7 8 \n",
      "8 9 5 \n",
      "\n",
      "4 3 2 \n",
      "1 2 3 \n",
      "\n",
      "\n"
     ]
    }
   ],
   "source": [
    "#include <stdio.h>\n",
    "\n",
    "void output_3d_matrix (int x, int y, int z, int a[x][y][z]) {    \n",
    "    for (int i = 0; i < x; i++) {        \n",
    "        for (int j = 0; j < y; j++) {\n",
    "            for (int k = 0; k < z; k++) {\n",
    "            printf(\"%d \", a[i][j][k]);\n",
    "            }        \n",
    "        printf(\"\\n\");\n",
    "        }\n",
    "    printf(\"\\n\");\n",
    "    }\n",
    "printf(\"\\n\");\n",
    "}\n",
    "\n",
    "int main() {\n",
    "    int N = 5, M = 2, O = 3;\n",
    "    int array_1[5][2][3] = {{{1,2,3},{3,4,5}},\n",
    "                            {{5,4,3},{1,2,3}},\n",
    "                            {{1,3,2},{1,2,3}},\n",
    "                            {{6,7,8},{8,9,5}},\n",
    "                            {{4,3,2},{1,2,3}}};\n",
    "    int array_2[][2][3] = {{{1,2,3},{3,4,5}},{{5,4,3},{1,2,3}},{{1,3,2},{1,2,3}},{{6,7,8},{8,9,5}},{{4,3,2},{1,2,3}}};    \n",
    "    output_3d_matrix(N, M, O, array_1);\n",
    "    output_3d_matrix(N, M, O, array_2);\n",
    "}"
   ]
  },
  {
   "cell_type": "markdown",
   "id": "82892fad-844b-4f0d-97c2-2ed364f97390",
   "metadata": {},
   "source": [
    "### 2D mátrix rendezése soronként"
   ]
  },
  {
   "cell_type": "code",
   "execution_count": 21,
   "id": "103f3d4c-a59e-4368-b9c8-c96d6ec882ad",
   "metadata": {},
   "outputs": [
    {
     "name": "stdout",
     "output_type": "stream",
     "text": [
      "\n",
      "\n",
      "Rendezetlen:\n",
      "1. sor:\t  4   7   8   6   4 \n",
      "2. sor:\t  6   7   3  10   2 \n",
      "3. sor:\t  3   8   1  10   4 \n",
      "4. sor:\t  7   1   7   3   7 \n",
      "5. sor:\t  2   9   8  10   3 \n",
      "\n",
      "Rendezett:\n",
      "1. sor:\t  4   4   6   7   8 \n",
      "2. sor:\t  2   3   6   7  10 \n",
      "3. sor:\t  1   3   4   8  10 \n",
      "4. sor:\t  1   3   7   7   7 \n",
      "5. sor:\t  2   3   8   9  10 "
     ]
    }
   ],
   "source": [
    "#include <stdio.h>\n",
    "\n",
    "void output_matrix(int sor, int oszlop, int tomb[sor][oszlop]) {    \n",
    "    for (int i = 0; i < sor; i++) {\n",
    "        printf(\"\\n%d. sor:\\t\",i+1);\n",
    "        for (int j = 0; j < oszlop; j++) {\n",
    "            printf(\"%3d \",tomb[i][j]);\n",
    "        }        \n",
    "    }\n",
    "}\n",
    "\n",
    "void gen_matrix(int sor, int oszlop, int tomb[sor][oszlop]) {\n",
    "    for (int i = 0; i < sor; i++) {\n",
    "        for (int j = 0; j < oszlop; j++) {\n",
    "            tomb[i][j] = rand() % 10 + 1;\n",
    "        }\n",
    "    }\n",
    "}\n",
    "\n",
    "void sort_rows_matrix(int sor, int oszlop, int tomb[sor][oszlop]) {    \n",
    "    int temp = 0;    \n",
    "    for (int i = 0; i < sor; i++) {\n",
    "        for (int j = 0; j < oszlop; j++) {\n",
    "            for (int k = j + 1; k < oszlop; k++) {\n",
    "                if (tomb[i][j] > tomb[i][k]) {\n",
    "                    temp = tomb[i][j];\n",
    "                    tomb[i][j] = tomb[i][k];\n",
    "                    tomb[i][k] = temp;                \n",
    "                } \n",
    "            }            \n",
    "        }        \n",
    "    }\n",
    "}\n",
    "\n",
    "int main() {        \n",
    "    int array_3[5][5];\n",
    "    \n",
    "    gen_matrix(5,5,array_3);\n",
    "    printf(\"\\n\\nRendezetlen:\");\n",
    "    output_matrix(5,5,array_3);\n",
    "    sort_rows_matrix(5,5,array_3);\n",
    "    printf(\"\\n\\nRendezett:\");\n",
    "    output_matrix(5,5,array_3);\n",
    "}"
   ]
  },
  {
   "cell_type": "markdown",
   "id": "4190c866-57a6-49fe-9930-1b9962953acf",
   "metadata": {},
   "source": [
    "### 2D mátrix rendezése"
   ]
  },
  {
   "cell_type": "code",
   "execution_count": 1,
   "id": "2c258200-efd6-4275-adb3-f8a240e56711",
   "metadata": {},
   "outputs": [
    {
     "name": "stdout",
     "output_type": "stream",
     "text": [
      "\n",
      "\n",
      "Rendezetlen:\n",
      "1. sor:\t  4   7   8   6   4 \n",
      "2. sor:\t  6   7   3  10   2 \n",
      "3. sor:\t  3   8   1  10   4 \n",
      "4. sor:\t  7   1   7   3   7 \n",
      "5. sor:\t  2   9   8  10   3 \n",
      "\n",
      "Rendezett:\n",
      "1. sor:\t  1   1   2   2   3 \n",
      "2. sor:\t  3   3   3   4   4 \n",
      "3. sor:\t  4   6   6   7   7 \n",
      "4. sor:\t  7   7   7   8   8 \n",
      "5. sor:\t  8   9  10  10  10 "
     ]
    }
   ],
   "source": [
    "#include <stdio.h>\n",
    "\n",
    "void output_matrix(int sor, int oszlop, int tomb[sor][oszlop]) {    \n",
    "    for (int i = 0; i < sor; i++) {\n",
    "        printf(\"\\n%d. sor:\\t\",i+1);\n",
    "        for (int j = 0; j < oszlop; j++) {\n",
    "            printf(\"%3d \",tomb[i][j]);\n",
    "        }        \n",
    "    }\n",
    "}\n",
    "\n",
    "void gen_matrix(int sor, int oszlop, int tomb[sor][oszlop]) {\n",
    "    for (int i = 0; i < sor; i++) {\n",
    "        for (int j = 0; j < oszlop; j++) {\n",
    "            tomb[i][j] = rand() % 10 + 1;\n",
    "        }\n",
    "    }\n",
    "}\n",
    "\n",
    "void sort_matrix(int n, int m, int x[n][m]) {    \n",
    "    int temp = 0, l;    \n",
    "    for (int i = 0; i < n; i++) {\n",
    "        for (int j = 0; j < m; j++) {            \n",
    "            l = j + 1;\n",
    "            for (int k = i; k < n; k++) {\n",
    "                while (l < m) {\n",
    "                    if (x[i][j] > x[k][l]) {\n",
    "                        temp = x[k][l];\n",
    "                        x[k][l] = x[i][j];\n",
    "                        x[i][j] = temp;                \n",
    "                    }\n",
    "                l++;\n",
    "                }\n",
    "            l = 0;\n",
    "            }            \n",
    "        }        \n",
    "    }\n",
    "}\n",
    "\n",
    "int main() {        \n",
    "    int array_3[5][5];\n",
    "    \n",
    "    gen_matrix(5,5,array_3);\n",
    "    printf(\"\\n\\nRendezetlen:\");\n",
    "    output_matrix(5,5,array_3);\n",
    "    sort_matrix(5,5,array_3);\n",
    "    printf(\"\\n\\nRendezett:\");\n",
    "    output_matrix(5,5,array_3);\n",
    "}"
   ]
  },
  {
   "cell_type": "markdown",
   "id": "74e6fb6e-2b6e-4596-bd0a-d6003f325180",
   "metadata": {},
   "source": [
    "## Feladatok"
   ]
  },
  {
   "cell_type": "markdown",
   "id": "91c0bcbb-198b-4f76-8056-917e69e686fc",
   "metadata": {},
   "source": [
    "<ol>\n",
    "    <li>Rendezze a teljes tömböt csökkenő sorrendbe!</li>\n",
    "    <li>Rendezze a tömb oszlopait növekvő sorrendbe!</li>\n",
    "    <li>A felhasználó által kiválasztott elem értékét írja át 0-ra!</li>\n",
    "    <li>A felhasználó által kiválasztott sor, vagy oszlop elemeinek értékét írja át 0-ra!</li>\n",
    "</ol>"
   ]
  },
  {
   "cell_type": "code",
   "execution_count": null,
   "id": "95644c59-40e7-4c5d-bf64-dd0c07801f33",
   "metadata": {},
   "outputs": [],
   "source": []
  }
 ],
 "metadata": {
  "kernelspec": {
   "display_name": "C",
   "language": "c",
   "name": "c"
  },
  "language_info": {
   "file_extension": ".c",
   "mimetype": "text/x-csrc",
   "name": "text/x-csrc"
  }
 },
 "nbformat": 4,
 "nbformat_minor": 5
}
