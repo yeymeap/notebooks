{
 "cells": [
  {
   "cell_type": "markdown",
   "id": "4f238387-feab-4d47-a83c-eacd8bb3d8bc",
   "metadata": {
    "tags": []
   },
   "source": [
    "### <b>1. Feladat:</b>\n",
    "\n",
    "1. Hozzunk létre egy 10 * 10-es mátrixot.\n",
    "2. Töltsük fel a mátrixot A-Z közötti véletlen betűkkel.\n",
    "3. Készítünk függvényt a mátrix kiíratására.\n",
    "\n",
    "<b>Minta:</b>\n",
    "```\n",
    "10*10 mátrix:\n",
    "\n",
    "   U   R   V   M   I   Q   C   Q   J   J\n",
    "   W   J   A   H   F   Z   A   U   P   K\n",
    "   C   B   B   F   V   X   G   F   E   G\n",
    "   B   Y   Z   X   K   I   P   O   A   A\n",
    "   Y   W   J   A   G   O   B   G   K   S\n",
    "   R   M   T   S   T   R   S   B   W   W\n",
    "   I   Y   X   J   X   H   R   O   Y   S\n",
    "   O   W   O   Z   Y   U   P   B   D   Z\n",
    "   T   U   O   O   O   H   F   G   L   C\n",
    "   F   V   C   C   E   B   L   W   P   J\n",
    "``` "
   ]
  },
  {
   "cell_type": "markdown",
   "id": "b132e826-bdc7-44f6-b464-4d4742b1a66d",
   "metadata": {
    "tags": []
   },
   "source": [
    "### <b>2. Feladat:</b>\n",
    "\n",
    "1. Hozzunk létre egy 10 * 10-es mátrixot.\n",
    "2. Töltsük fel a mátrixot A-Z és a-z közötti véletlen betűkkel.\n",
    "3. Készítünk függvényt a mátrix kiíratására.\n",
    "\n",
    "<b>Minta:</b>\n",
    "```\n",
    "10*10 mátrix:\n",
    "\n",
    "   O   P   W   F   Q   T   I   X   M   S\n",
    "   i   h   i   a   l   b   w   j   k   h\n",
    "   t   r   a   x   d   n   y   s   p   p\n",
    "   l   w   a   g   g   z   v   z   o   d\n",
    "   Z   E   U   A   C   F   M   K   G   G\n",
    "   j   f   i   w   d   d   o   u   m   b\n",
    "   m   i   x   m   d   w   c   g   f   d\n",
    "   B   D   R   G   S   D   N   Y   G   Y\n",
    "   q   w   k   t   k   f   g   m   w   u\n",
    "   V   I   Z   U   N   H   Z   Q   W   C\n",
    "```"
   ]
  },
  {
   "cell_type": "markdown",
   "id": "021c9895-ca14-42eb-85cc-0b68b570ce89",
   "metadata": {},
   "source": [
    "### <b>3. Feladat:</b>\n",
    "\n",
    "1. Hozzunk létre egy tetszőleges méretű mátrixot.\n",
    "2. Töltsük fel a mátrixot 90-100 közötti véletlen számokkal.\n",
    "3. Irassuk ki a mátrixot.\n",
    "4. Irassuk ki a leggyakrabban előforduló számot.\n",
    "\n",
    "<b>Minta:</b>\n",
    "\n",
    "```\n",
    "90  95  92  90  97\n",
    "95  93  96  98  90\n",
    "90  95  92  90  97\n",
    "95  94  96  99  90\n",
    "100 93  96  98  90\n",
    "\n",
    "A leggyakrabban előforduló szám a 90 összesen 7 alkalommal.\n",
    "```"
   ]
  },
  {
   "cell_type": "markdown",
   "id": "08d2083b-f203-4b02-8398-bde3b5ed5d2b",
   "metadata": {},
   "source": [
    "### <b>4. Feladat:</b>\n",
    "\n",
    "1. Hozzunk létre egy tetszőleges méretű mátrixot.\n",
    "2. Töltsük fel a mátrixot A-Z és a-z közötti véletlen betűkkel.\n",
    "3. Irassuk ki a mátrixot.\n",
    "4. Irassuk ki a leggyakrabban előforduló betűt.\n",
    "5. Irassuk ki a leggyakrabban előforduló betűt úgy, hogy nem teszünk különbséget kis és nagy betűk között."
   ]
  },
  {
   "cell_type": "markdown",
   "id": "4e4e41c6-1d21-4725-b5a5-a16731aae5d6",
   "metadata": {},
   "source": [
    "<b>Minta:</b>\n",
    "```\n",
    "Adja meg a sorok számát!\n",
    " 5\n",
    "Adja meg az oszlopok számát!\n",
    " 12\n",
    " \n",
    " w  r  b  Q  h  D  R  o  K  Y  i  d \n",
    " S  D  r  m  W  r  s  y  l  b  F  A \n",
    " c  y  e  D  G  X  p  L  R  L  n  P \n",
    " P  F  K  o  k  C  Q  n  N  U  W  s \n",
    " M  B  u  C  j  i  s  M  k  T  x  X \n",
    "\n",
    "Legtöbbször előforduló elem a(z) \"r\", 5 alkalommal.\n",
    "```"
   ]
  },
  {
   "cell_type": "markdown",
   "id": "fffa41f9-32da-484b-ba8a-6772635223b9",
   "metadata": {},
   "source": [
    "### <b>5. Feladat:</b>\n",
    "\n",
    "1. Hozzunk létre egy tetszőleges méretű mátrixot.\n",
    "2. Töltsük fel a mátrixot 0-50 közötti véletlen páraltan számokkal, a két szélső érték nem tartozik bele a generált intervallumba.\n",
    "3. Irassuk ki a mátrixot.\n",
    "4. Irassuk ki a irassuk ki a legnagyobb sorösszegű sort, indexét és értékét.\n",
    "\n",
    "<b>Minta:</b>\n",
    "```\n",
    "10*10 mátrix:\n",
    "\n",
    "0.\t  15  45  31  25  11  17   5  29   7   7\t|\t192\n",
    "1.\t  25  39   5   9  31  13  29   1  41  19\t|\t212\n",
    "2.\t  33  41  39  25   1  21  21   1  47  23\t|\t252\n",
    "3.\t   5  15  17  41  39  33  11  43  11  21\t|\t236\n",
    "4.\t   5  39   9   9  47  43  25  25  43  21\t|\t266\n",
    "5.\t  49  25  11  37   5  15  11  29  15  11\t|\t208\n",
    "6.\t   1  23  25  23  13  19   9  27  15  19\t|\t174\n",
    "7.\t  47  19   7  11  33   7   3  11  37  47\t|\t222\n",
    "8.\t  31  35  25  45  25  33   9  37  13  23\t|\t276\n",
    "9.\t  47  17  47  27  43  13  45   1  41  13\t|\t294\n",
    "\n",
    "Legnagyobb összegű sor adatai \n",
    "\n",
    "Indexe: 9.\n",
    "Összege: 294\n",
    "Elemei: 47 17 47 27 43 13 45 1 41 13 \n",
    "```"
   ]
  },
  {
   "cell_type": "code",
   "execution_count": null,
   "id": "734ecc45-bed5-4a30-af10-3d00f27fc625",
   "metadata": {},
   "outputs": [],
   "source": []
  }
 ],
 "metadata": {
  "kernelspec": {
   "display_name": "C",
   "language": "c",
   "name": "c"
  },
  "language_info": {
   "file_extension": ".c",
   "mimetype": "text/x-csrc",
   "name": "text/x-csrc"
  }
 },
 "nbformat": 4,
 "nbformat_minor": 5
}
