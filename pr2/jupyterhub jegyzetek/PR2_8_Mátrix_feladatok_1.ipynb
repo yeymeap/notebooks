{
 "cells": [
  {
   "cell_type": "markdown",
   "id": "39b3db6e-3d4f-4fd0-a828-e7a7df6b2015",
   "metadata": {},
   "source": [
    "# Mátrix feladatok"
   ]
  },
  {
   "cell_type": "markdown",
   "id": "5ff8b626-049c-461a-8e5f-d9bbe55125de",
   "metadata": {
    "jp-MarkdownHeadingCollapsed": true,
    "tags": []
   },
   "source": [
    "### <b>1. Feladat</b>\n",
    "\n",
    "Töltsön fel egy 5x5-ös mátrixot véletlen számokkal, majd első utolsó sorba, ill. első és utolsó oszlopba írjon 1-eseket. \n",
    "\n",
    "Pl.:\n",
    "<code>\n",
    "25 37 12 52 10      1  1  1  1 1\n",
    "11  7 32 18 39      1  7 32 18 1\n",
    "72 52 20 21 19      1 52 20 21 1\n",
    "2  80 13 41  9      1 80 13 41 1\n",
    "81 18 92  5 23      1  1  1  1 1\n",
    "</code>       "
   ]
  },
  {
   "cell_type": "markdown",
   "id": "fc6975fb-36b7-41ad-8702-9c2f34a242a1",
   "metadata": {},
   "source": [
    "### <b>2. Feladat</b>\n",
    "\n",
    "Töltsön fel egy 5x5-ös mátrixot véletlen számokkal, majd mindkét átlóba írjon 0-kat. \n",
    "\n",
    "Pl.:\n",
    "<code>\n",
    "25 37 12 52 10       0 37 12 52  0\n",
    "11  7 32 18 39      11  0 32  0 39\n",
    "72 52 20 21 19      72 52  0 21 19\n",
    " 2 80 13 41  9       2  0 13  0  9\n",
    "81 18 92  5 23       0 18 92  5  0\n",
    "</code>       "
   ]
  },
  {
   "cell_type": "markdown",
   "id": "38ae6c2b-e502-4604-b90a-cc11a0b2f564",
   "metadata": {},
   "source": [
    "### <b>3. Feladat</b>\n",
    "\n",
    "Töltsön fel egy 5x5-ös mátrixot véletlen számokkal, majd számolja ki a számok összegét és átlagát, határozza meg a legkisebb és a legnagyobb elemét. \n",
    "\n",
    "Pl.:\n",
    "<code>\n",
    "25 37 12 52 10\n",
    "11  7 32 18 39\n",
    "72 52 20 21 19\n",
    " 2 80 13 41  9\n",
    "81 18 92  5 23\n",
    "</code>\n",
    "\n",
    "<ul>\n",
    "    <li>A számok összege: 791\n",
    "    <li>A számok átlaga: 31.64\n",
    "    <li>Legkisebb elem: 2\n",
    "    <li>Legnagyobb elem: 92\n",
    "</ul>    "
   ]
  },
  {
   "cell_type": "markdown",
   "id": "2821bf63-082f-4ae9-8edb-63d73ecaf368",
   "metadata": {},
   "source": [
    "### <b>4. Feladat</b>\n",
    "\n",
    "Töltsön fel egy 5x5-ös mátrixot véletlen számokkal, majd cserélje ki benne a legkisebb és a legnagyobb elemet. \n",
    "\n",
    "Pl.:\n",
    "<code>\n",
    "25 37 12 52 10      25 37 12 52 10\n",
    "11  7 32 18 39      11  7 32 18 39\n",
    "72 52 20 21 19      72 52 20 21 19\n",
    " 2 80 13 41  9      92 80 13 41  9\n",
    "81 18 92  5 23      81 18  2  5 23\n",
    "</code>   "
   ]
  },
  {
   "cell_type": "markdown",
   "id": "4f914a26-d6b0-4220-a751-6d0dd2057c76",
   "metadata": {},
   "source": [
    "### <b>5. Feladat</b>\n",
    "\n",
    "Töltsön fel egy 6x6-os mátrixot véletlen számokkal, rendezze mindegyik sorát külön-külön. \n",
    "\n",
    "Pl.:\n",
    "<code>\n",
    "25 37 12 52 10 50      10 12 25 37 50 52\n",
    "11  7 32 18 39 18       7 11 18 18 32 39\n",
    "72 52 20 21 19 17      17 19 20 21 52 72\n",
    " 2 80 13 41  9 99       2  9 13 41 80 99\n",
    "81 18 92  5 23 18       5 18 18 23 81 92\n",
    " 5 33 85 15 74 29       5 15 33 29 74 85\n",
    "</code>    "
   ]
  },
  {
   "cell_type": "markdown",
   "id": "bf8c8ffa-0379-4ed1-995d-6ab5a362ddc0",
   "metadata": {},
   "source": [
    "### <b>6. Feladat</b>\n",
    "\n",
    "Töltsön fel egy 6x6-os mátrixot véletlen számokkal, rendezze mindegyik oszlopát külön-külön. \n",
    "\n",
    "Pl.:\n",
    "<code>\n",
    "25 37 12 52 10 50       2  7 12  5  9 17\n",
    "11  7 32 18 39 18       5 18 13 15 10 18\n",
    "72 52 20 21 19 17      11 33 20 18 19 18\n",
    " 2 80 13 41  9 99      25 37 32 21 23 29\n",
    "81 18 92  5 23 18      72 52 85 41 39 50\n",
    " 5 33 85 15 74 29      81 80 92 52 74 99\n",
    "</code>"
   ]
  },
  {
   "cell_type": "markdown",
   "id": "4d6cabdb-005d-454b-a26e-7afa3c7704e0",
   "metadata": {},
   "source": [
    "### <b>7. Feladat</b>\n",
    "\n",
    "Töltsön fel egy 6x6-os mátrixot véletlen számokkal, rendezze az egész mátrixot (sorokat egymás után).\n",
    "\n",
    "Pl.:\n",
    "<code>\n",
    "25 37 12 52 10 50       2  5  5  7  9 10\n",
    "11  7 32 18 39 18      11 12 13 15 17 18\n",
    "72 52 20 21 19 17      18 18 18 19 20 21\n",
    " 2 80 13 41  9 99      23 25 29 32 33 37\n",
    "81 18 92  5 23 18      39 41 50 52 52 72\n",
    " 5 33 85 15 74 29      74 80 81 85 92 99\n",
    "</code>"
   ]
  },
  {
   "cell_type": "markdown",
   "id": "737ccd73-6399-43ef-a86d-32365982afa2",
   "metadata": {},
   "source": [
    "### <b>8. Feladat</b>\n",
    "\n",
    "Készítsen programot, ahol a felhasználó adja meg a kétdimenziós tömb sorainak és oszlopainak számát, majd feltölti azt a megadott intervallumon generált véletlen számokkal és kiírja.   \n",
    "    "
   ]
  },
  {
   "cell_type": "markdown",
   "id": "6791ddaf-5974-4fa9-acbf-23eb4cc9c003",
   "metadata": {
    "tags": []
   },
   "source": [
    "### <b>9. Feladat:</b>\n",
    "\n",
    "1. Hozzunk létre egy 10 * 10-es mátrixot.\n",
    "2. Töltsük fel a mátrixot 1-100 közötti véletlen egész számokkal.\n",
    "3. Irassuk ki a mátrixot olyan módon, hogy a sorok számmal és az oszlopok ABC nagy betűivel legyenek jelölve.\n",
    "\n",
    "<b>Minta:</b>\n",
    "```\n",
    "           A    B    C    D    E    F    G    H    I    J  \n",
    " 1. sor   33   55   33   76   32   77   56   36   56   84\n",
    " 2. sor   23   67   90   25    8   43   86   23   53   10\n",
    " 3. sor   50   56   61   20   34   90   93   76   13   58\n",
    " 4. sor   17   98   64    2   25   47   30   32   83   85\n",
    " 5. sor   16    5    4    5   82   11   99   19   86   51\n",
    " 6. sor   29   35    7   89    6   92   31   50   19   43\n",
    " 7. sor    8   36   92   23   89   69   70   18  100   52\n",
    " 8. sor    3   67   56   58   24   89   20   22    8    5\n",
    " 9. sor   73   36   39   31   76   96   22    6   46   92\n",
    "10. sor    1    5   79   92   27   67   12   96   37   12    \n",
    "```"
   ]
  },
  {
   "cell_type": "code",
   "execution_count": null,
   "id": "273102f0-176d-44fb-bf61-c475b64b00fe",
   "metadata": {},
   "outputs": [],
   "source": []
  }
 ],
 "metadata": {
  "kernelspec": {
   "display_name": "C",
   "language": "c",
   "name": "c"
  },
  "language_info": {
   "file_extension": ".c",
   "mimetype": "text/x-csrc",
   "name": "text/x-csrc"
  }
 },
 "nbformat": 4,
 "nbformat_minor": 5
}
