{
 "cells": [
  {
   "cell_type": "markdown",
   "id": "9a2ef1a5-f789-4a78-84c4-5301598357cc",
   "metadata": {
    "tags": []
   },
   "source": [
    "## Véletlen számok deklarálása"
   ]
  },
  {
   "cell_type": "markdown",
   "id": "90434b87-e747-4433-b2c4-9412b974c1cf",
   "metadata": {},
   "source": [
    "`x` - generált számok mennyisége\n",
    "\n",
    "`r` - generált véletlen szám\n",
    "\n",
    "`rand() % 2;` - generált számok intervalluma, ahol a felső érték nem tartozik bele"
   ]
  },
  {
   "cell_type": "markdown",
   "id": "977f285b-afcc-423c-b5df-97c67e12c501",
   "metadata": {
    "tags": []
   },
   "source": [
    "### `rand()` függvény:"
   ]
  },
  {
   "cell_type": "code",
   "execution_count": null,
   "id": "9a8d67a7-71b7-4283-9409-52849b4311a4",
   "metadata": {
    "tags": []
   },
   "outputs": [],
   "source": [
    "#include <stdio.h>\n",
    "#include <stdlib.h>\n",
    "#include <time.h>\n",
    "\n",
    "int main ()\n",
    " \n",
    "{\n",
    "    int x = 0, r = 0;\n",
    "    \n",
    "    printf(\"\\nHány véletlen számot szeretne generálni?\");\n",
    "    scanf(\"%d\",&x);   \n",
    "    for (int i = 0;i < x; i++){    \n",
    "        r = rand() % 10;\n",
    "        printf(\"%d \",r);\n",
    "        }\n",
    "    \n",
    "    return 0;\n",
    "} "
   ]
  },
  {
   "cell_type": "markdown",
   "id": "8a88ee5e-17aa-4398-92eb-f795039d85ce",
   "metadata": {},
   "source": [
    "### `srand(time(NULL))` és `rand()` függvény:"
   ]
  },
  {
   "cell_type": "code",
   "execution_count": null,
   "id": "dda84b39-10e3-4202-8378-3618b591701d",
   "metadata": {
    "tags": []
   },
   "outputs": [],
   "source": [
    "#include <stdio.h>\n",
    "#include <stdlib.h>\n",
    "#include <time.h>\n",
    "\n",
    "int main ()\n",
    " \n",
    "{\n",
    "    srand(time(NULL));   \n",
    "    int x = 0, r = 0;\n",
    "    \n",
    "    printf(\"\\nHány véletlen számot szeretne generálni?\");\n",
    "    scanf(\"%d\",&x);   \n",
    "    for (int i = 0;i < x; i++){    \n",
    "        r = rand() % 10;\n",
    "        printf(\"%d \",r);\n",
    "        }\n",
    "    return 0;\n",
    "} "
   ]
  },
  {
   "cell_type": "markdown",
   "id": "cb51f640-6798-4100-8f66-1059109f2234",
   "metadata": {
    "tags": []
   },
   "source": [
    "## Feladat - Pénzfeldobás"
   ]
  },
  {
   "cell_type": "markdown",
   "id": "31066ffe-ac93-45ba-a056-82d924ee7c72",
   "metadata": {
    "tags": []
   },
   "source": [
    "1. Bekéri a felhasználótól, hogy mennyi darab pénzfeldobást szeretne elvégezni. Ez után generáljon ki a program megadott számú pénzfeldobást (i=írás, f=fej, vagy h=heads, t=tails) és írja ki ezt a képernyőre."
   ]
  },
  {
   "cell_type": "code",
   "execution_count": null,
   "id": "09adbb19-f082-41b2-94ae-817c006b027f",
   "metadata": {
    "tags": []
   },
   "outputs": [],
   "source": [
    "#include <stdio.h>\n",
    "#include <stdlib.h>\n",
    "#include <time.h>\n",
    "\n",
    "int main ()\n",
    " \n",
    "{    \n",
    "    srand(time(NULL));     \n",
    "    int coin = 0, heads = 0, tails = 0;    \n",
    "    \n",
    "    printf(\"\\nHány pénzfeldobást szeretne elvégezni?\");\n",
    "    scanf(\"%d\",&coin);   \n",
    "    for (int i = 0;i < coin; i++){        \n",
    "    \n",
    "     if (rand() % 2==1){\n",
    "            printf(\"h\");\n",
    "            heads++;                            \n",
    "        }\n",
    "        else{\n",
    "            printf(\"t\");\n",
    "            tails++;\n",
    "        }           \n",
    "    }    \n",
    "     \n",
    "    printf(\"\\nHeads: %d\", heads);    \n",
    "    printf(\"\\nTails: %d\", tails);\n",
    "    \n",
    "    return 0;\n",
    "} "
   ]
  },
  {
   "cell_type": "markdown",
   "id": "eee2ba98-6f40-4ebe-871e-e88abc1441f4",
   "metadata": {},
   "source": [
    "2. Számolja meg, hogy a pénzfeldobások hány százaléka volt írás és mennyi volt fej"
   ]
  },
  {
   "cell_type": "code",
   "execution_count": null,
   "id": "d21c3921-3296-4590-a08a-23827e02fc98",
   "metadata": {
    "tags": []
   },
   "outputs": [],
   "source": [
    "#include <stdio.h>\n",
    "#include <stdlib.h>\n",
    "#include <time.h>\n",
    "\n",
    "int main ()\n",
    " \n",
    "{\n",
    "    srand(time(NULL));     \n",
    "    int coin = 0, heads = 0, tails = 0;\n",
    "    float percent = 0;\n",
    "    \n",
    "    printf(\"\\nHány pénzfeldobást szeretne elvégezni?\");\n",
    "    scanf(\"%d\",&coin);   \n",
    "    for (int i = 0;i < coin; i++){        \n",
    "    \n",
    "     if (rand() % 2==1){\n",
    "            printf(\"h\");\n",
    "            heads++;       \n",
    "        }\n",
    "        else{\n",
    "            printf(\"t\");\n",
    "            tails++;\n",
    "        }           \n",
    "    }\n",
    "    \n",
    "    percent=(heads/(float)coin)*100;    \n",
    "    printf(\"\\nHeads: %d, %.2f%%\", heads, percent);\n",
    "    percent=(tails/(float)coin)*100;\n",
    "    printf(\"\\nTails: %d, %.2f%%\", tails, percent);\n",
    "    \n",
    "    return 0;\n",
    "} "
   ]
  },
  {
   "cell_type": "markdown",
   "id": "b0bfe073-1912-4ea3-917d-97bedb5282f6",
   "metadata": {},
   "source": [
    "3. Végezetül határozza meg a leghosszabb írássorozat és fejsorozat hosszát, tehát azt hogy a pénzfeldobások során legtöbb mennyiszer volt egymás után kizárólag írás ill. fej feldobva (pl. a mintakimenetben a leghosszabb írássorozat hossza 4, amely a pénzfeldobások elején található: iiiifffiififiifffififiiffffffi, a leghosszabb fejsorozat hossza pedig 6, amely a pénzfeldobások vége felé található: iiiifffiififiifffififiiffffffi)."
   ]
  },
  {
   "cell_type": "code",
   "execution_count": null,
   "id": "bd2fb2ef-2531-4f8b-b7d4-6f0dd126173c",
   "metadata": {
    "tags": []
   },
   "outputs": [],
   "source": [
    "#include <stdio.h>\n",
    "#include <stdlib.h>\n",
    "#include <time.h>\n",
    "\n",
    "int main ()\n",
    " \n",
    "{\n",
    "    srand(time(NULL));     \n",
    "    int coin = 0, heads = 0, tails = 0, heads_length = 0, heads_max_length = 0, tails_length = 0, tails_max_length = 0;\n",
    "    float percent = 0;\n",
    "    \n",
    "    printf(\"\\nHány pénzfeldobást szeretne elvégezni?\");\n",
    "    scanf(\"%d\",&coin);   \n",
    "    for (int i = 0;i < coin; i++){        \n",
    "    \n",
    "     if (rand() % 2==1){\n",
    "            printf(\"h\");\n",
    "            heads++;\n",
    "            heads_length++;\n",
    "            tails_length = 0;\n",
    "            if(heads_length>heads_max_length){\n",
    "                heads_max_length=heads_length;\n",
    "            }\n",
    "        \n",
    "        }\n",
    "        else{\n",
    "            printf(\"t\");\n",
    "            tails++;\n",
    "            tails_length++;\n",
    "            heads_length = 0;\n",
    "            if(tails_length>tails_max_length){\n",
    "                tails_max_length=tails_length;\n",
    "            }\n",
    "        }           \n",
    "    }\n",
    "    \n",
    "    percent=(heads/(float)coin)*100;    \n",
    "    printf(\"\\nHeads: %d, %.2f%%\", heads, percent);\n",
    "    percent=(tails/(float)coin)*100;\n",
    "    printf(\"\\nTails: %d, %.2f%%\", tails, percent);\n",
    "    printf(\"\\nMost heads in a row: %d\", heads_max_length);\n",
    "    printf(\"\\nMost tails in a row: %d\", tails_max_length);\n",
    "    \n",
    "    return 0;\n",
    "} "
   ]
  },
  {
   "cell_type": "code",
   "execution_count": null,
   "id": "aba35787-67fe-4c13-8f7e-2190dfed5e4b",
   "metadata": {},
   "outputs": [],
   "source": []
  }
 ],
 "metadata": {
  "kernelspec": {
   "display_name": "C",
   "language": "c",
   "name": "c"
  },
  "language_info": {
   "file_extension": ".c",
   "mimetype": "text/x-csrc",
   "name": "text/x-csrc"
  },
  "toc-showtags": false
 },
 "nbformat": 4,
 "nbformat_minor": 5
}
