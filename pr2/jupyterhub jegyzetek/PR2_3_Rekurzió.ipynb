{
 "cells": [
  {
   "cell_type": "markdown",
   "id": "5cf2102c-4470-44b6-b4c9-386a3157f934",
   "metadata": {},
   "source": [
    "## Rekurzió felépítése"
   ]
  },
  {
   "cell_type": "markdown",
   "id": "ff08f3ea-25dc-4004-a937-b96db1e9de56",
   "metadata": {},
   "source": [
    "<a href=\"https://www.programiz.com/c-programming/c-recursion\">Programiz - Recursion </a>\n",
    "\n",
    "\n",
    "<code>\n",
    "    void rekurzió()\n",
    "{\n",
    "    ... .. ...\n",
    "    rekurzió();\n",
    "    ... .. ...\n",
    "}\n",
    "\n",
    "int main()\n",
    "{\n",
    "    ... .. ...\n",
    "    rekurzió();\n",
    "    ... .. ...\n",
    "}\n",
    "</code>"
   ]
  },
  {
   "cell_type": "markdown",
   "id": "2cd07af8-954f-40cb-87db-70c51f6ed350",
   "metadata": {},
   "source": [
    "<img src=\"https://cdn.programiz.com/sites/tutorial2program/files/how-recursion-works-c_0.jpg\" alt=\"Recursion_1\">"
   ]
  },
  {
   "cell_type": "markdown",
   "id": "399b9a18-8dbc-44b9-8b30-6e73780e1463",
   "metadata": {
    "jp-MarkdownHeadingCollapsed": true,
    "tags": []
   },
   "source": [
    "## 1. Természetes számok összege"
   ]
  },
  {
   "cell_type": "markdown",
   "id": "8dfae198-f5a9-42d3-a0be-fc547c55a9e2",
   "metadata": {},
   "source": [
    "<b>Feladat: </b>Készítsen programot, ami megadja nullától a felhasználó által választott számig terjedő intervallum összegét! A felhasználó által megadott szám beletartozik az intervallumba.\n",
    "\n",
    "pl.:\n",
    "```\n",
    "input: 5\n",
    "1+2+3+4+5\n",
    "output: 15\n",
    "```"
   ]
  },
  {
   "cell_type": "markdown",
   "id": "af9a0a02-1d0c-4862-b8f4-5f852920f782",
   "metadata": {},
   "source": [
    "<img src=\"https://cdn.programiz.com/sites/tutorial2program/files/recursion-natural-numbers.png\" alt=\"Recursion_2\">"
   ]
  },
  {
   "cell_type": "code",
   "execution_count": 9,
   "id": "906d7441-d2f2-4fb5-8a33-df8f1d1d902f",
   "metadata": {},
   "outputs": [
    {
     "name": "stdout",
     "output_type": "stream",
     "text": [
      "Adjon meg egy pozitív egész számot!"
     ]
    },
    {
     "name": "stdin",
     "output_type": "stream",
     "text": [
      " 548\n"
     ]
    },
    {
     "name": "stdout",
     "output_type": "stream",
     "text": [
      "Nullától 548-ig terjedő számok összege 150426"
     ]
    }
   ],
   "source": [
    "#include <stdio.h>\n",
    "\n",
    "int sum(int n);\n",
    "\n",
    "int main() {\n",
    "    int eredmeny, szam;\n",
    "\n",
    "    printf(\"Adjon meg egy pozitív egész számot!\");\n",
    "    scanf(\"%d\", &szam);\n",
    "\n",
    "    eredmeny = sum(szam);\n",
    "\n",
    "    printf(\"Nullától %d-ig terjedő számok összege %d\", szam, eredmeny);\n",
    "    return 0;\n",
    "}\n",
    "\n",
    "int sum(int n) {\n",
    "    if (n != 0) {       \n",
    "        return n + sum(n-1); \n",
    "    }\n",
    "    else {\n",
    "        return n;\n",
    "    }\n",
    "}"
   ]
  },
  {
   "cell_type": "markdown",
   "id": "da0551cc-ebde-4799-a4d3-a6e175cf2529",
   "metadata": {
    "jp-MarkdownHeadingCollapsed": true,
    "tags": []
   },
   "source": [
    "## 2. Faktoriális számítása"
   ]
  },
  {
   "cell_type": "markdown",
   "id": "7eac14be-b84e-4786-8985-6357ae7aada8",
   "metadata": {},
   "source": [
    "<b>Feladat:</b> Készítsen programot, ami kiszámítja felhasználó által megadott tetszőleges szám faktoriálisát! A feladat megoldásához használjon rekurziót.\n",
    "\n",
    "pl.:\n",
    "```\n",
    "input: 5\n",
    "5 * 4 * 3 * 2 * 1\n",
    "output: 120\n",
    "```\n",
    "\n",
    "Levezetés ```n = 5``` esetén:\n",
    "```\n",
    "f(n) = f(5)\n",
    "\n",
    "f(5) = 5 * f(5 - 1) = 5 * f(4)\n",
    "\n",
    "    5 * 4 * f(4 - 1) = 20 * f(3)\n",
    "        \n",
    "        20 * 3 * f(3 - 1) = 60 * f(2)\n",
    "        \n",
    "            60 * 2 f(2 - 1) = 120 * f(1)\n",
    "            \n",
    "                120 * 1 * f(1 - 1) = 120 * f(0)\n",
    "                    \n",
    "                    120 * 1 = 120\n",
    "```"
   ]
  },
  {
   "cell_type": "code",
   "execution_count": 4,
   "id": "1c618ac0-dd41-4d82-a15c-a46ef2a8243e",
   "metadata": {},
   "outputs": [
    {
     "name": "stdout",
     "output_type": "stream",
     "text": [
      "A program kiszámolja a megadott egész pozitív szám faktoriálisát."
     ]
    },
    {
     "name": "stdin",
     "output_type": "stream",
     "text": [
      " 5\n"
     ]
    },
    {
     "name": "stdout",
     "output_type": "stream",
     "text": [
      "120"
     ]
    }
   ],
   "source": [
    "# include <stdio.h>\n",
    "\n",
    "int f(int n) {\n",
    "    if (n == 0) {\n",
    "        return 1;\n",
    "    } else {\n",
    "        //printf(\"%d\", n);\n",
    "        return n * f(n - 1);        \n",
    "    }\n",
    "}\n",
    "\n",
    "int main() {\n",
    "    int szam = 0;\n",
    "    printf(\"A program kiszámolja a megadott egész pozitív szám faktoriálisát.\");\n",
    "    scanf(\"%d\", &szam);\n",
    "    printf(\"%d\", f(szam));\n",
    "}"
   ]
  },
  {
   "cell_type": "markdown",
   "id": "d3feba4b-f04c-40d9-b299-9f0e4a17f14d",
   "metadata": {
    "tags": []
   },
   "source": [
    "## 3. Példa - Fibonacci számsor"
   ]
  },
  {
   "cell_type": "markdown",
   "id": "3841030d-087c-4f7a-bd0a-745d038baa63",
   "metadata": {},
   "source": [
    "<b>Feladat:</b> Készítsen programot, ami visszaadja a Fibonacci számsor felhasználó által megadott tetszőleges elemének értékét. A feladat megoldásához használjon rekurziót.\n",
    "\n",
    "pl.:\n",
    "```\n",
    "input: 6\n",
    "1, 1, 2, 3, 5, 8\n",
    "output: 8\n",
    "```"
   ]
  },
  {
   "cell_type": "markdown",
   "id": "1cf50edc-a230-4fc5-8590-a9fadc92c3e8",
   "metadata": {
    "jp-MarkdownHeadingCollapsed": true,
    "tags": []
   },
   "source": [
    "### 1. Megoldás"
   ]
  },
  {
   "cell_type": "code",
   "execution_count": 23,
   "id": "3d3e537a-059d-44ce-a020-f69e3aae15e0",
   "metadata": {},
   "outputs": [
    {
     "name": "stdout",
     "output_type": "stream",
     "text": [
      "Fibonacci számsor hányadik elemét kéri?"
     ]
    },
    {
     "name": "stdin",
     "output_type": "stream",
     "text": [
      " 6\n"
     ]
    },
    {
     "name": "stdout",
     "output_type": "stream",
     "text": [
      "8"
     ]
    }
   ],
   "source": [
    "# include <stdio.h>\n",
    "\n",
    "int fibonacci(int n) {\n",
    "    if (n > 2) {\n",
    "        return fibonacci(n - 1) + fibonacci(n - 2);\n",
    "    }\n",
    "    else if (n <= 2) {\n",
    "        return 1;\n",
    "    }\n",
    "    else {\n",
    "        return 1;\n",
    "    }    \n",
    "}\n",
    "\n",
    "int main() {\n",
    "    int szam = 0;\n",
    "    \n",
    "    printf(\"Fibonacci számsor hányadik elemét kéri?\");\n",
    "    scanf(\"%d\", &szam);\n",
    "    printf(\"%d\", fibonacci(szam));\n",
    "}"
   ]
  },
  {
   "cell_type": "markdown",
   "id": "14d32d1d-364f-44b9-a193-344898b48b5d",
   "metadata": {
    "jp-MarkdownHeadingCollapsed": true,
    "tags": []
   },
   "source": [
    "### 2. Megoldás"
   ]
  },
  {
   "cell_type": "code",
   "execution_count": 13,
   "id": "8d100a4a-71f5-4f59-9079-c4f5fd7d2b9e",
   "metadata": {},
   "outputs": [
    {
     "name": "stdout",
     "output_type": "stream",
     "text": [
      "Fibonacci számsor hányadik elemét kéri?"
     ]
    },
    {
     "name": "stdin",
     "output_type": "stream",
     "text": [
      " 10\n"
     ]
    },
    {
     "name": "stdout",
     "output_type": "stream",
     "text": [
      "A Fibonacci számsor 10. eleme 55"
     ]
    }
   ],
   "source": [
    "# include <stdio.h>\n",
    "\n",
    "int fibonacci(int n) {\n",
    "    if (n <= 2) {\n",
    "        return 1;\n",
    "    }\n",
    "    else {\n",
    "        return fibonacci(n - 1) + fibonacci(n - 2);\n",
    "    }    \n",
    "}\n",
    "\n",
    "int main() {\n",
    "    int szam = 0;\n",
    "    \n",
    "    printf(\"Fibonacci számsor hányadik elemét kéri?\");\n",
    "    scanf(\"%d\", &szam);\n",
    "    printf(\"A Fibonacci számsor %d. eleme %d\",szam, fibonacci(szam));\n",
    "}"
   ]
  },
  {
   "cell_type": "markdown",
   "id": "9e11f7bb-69cd-4e5b-92e0-58de3f634a45",
   "metadata": {
    "jp-MarkdownHeadingCollapsed": true,
    "tags": []
   },
   "source": [
    "### 3. Megoldás - elemek kiírásával"
   ]
  },
  {
   "cell_type": "code",
   "execution_count": 1,
   "id": "2ed81bfe-9e14-4b16-8ccc-fefa93e1c3e9",
   "metadata": {},
   "outputs": [
    {
     "name": "stdout",
     "output_type": "stream",
     "text": [
      "Adja meg, hány elemét szeretné kiíratni a Fibonacci számsornak!"
     ]
    },
    {
     "name": "stdin",
     "output_type": "stream",
     "text": [
      " 10\n"
     ]
    },
    {
     "name": "stdout",
     "output_type": "stream",
     "text": [
      "1\t1\t2\t3\t5\t8\t13\t21\t34\t55\t"
     ]
    }
   ],
   "source": [
    "#include <stdio.h>\n",
    "\n",
    "int fibonacci(int i) {\n",
    "   if(i == 0) {\n",
    "      return 0;\n",
    "   }\n",
    "\n",
    "   if(i == 1) {\n",
    "      return 1;\n",
    "   }\n",
    "   return fibonacci(i-1) + fibonacci(i-2);\n",
    "}\n",
    "\n",
    "int  main() {\n",
    "    int n = 0;\n",
    "    \n",
    "    printf(\"Adja meg, hány elemét szeretné kiíratni a Fibonacci számsornak!\");\n",
    "    scanf(\"%d\", &n);\n",
    "    for (int i = 1; i <= n; i++) {\n",
    "        printf(\"%d\\t\", fibonacci(i));\n",
    "    }\n",
    "\n",
    "   return 0;\n",
    "}"
   ]
  },
  {
   "cell_type": "markdown",
   "id": "df99ffe1-a530-43ba-a51b-8062d21525d2",
   "metadata": {
    "jp-MarkdownHeadingCollapsed": true,
    "tags": []
   },
   "source": [
    "## 4. Példa - * és + jelek\n",
    "<b>Feladat: </b>Kövesse végig az alábbi kód működését! Mi lesz az eredmény ```n = 5``` esetén? Miért?"
   ]
  },
  {
   "cell_type": "code",
   "execution_count": 5,
   "id": "0aec26df-4031-4ba8-951a-73a704113d6b",
   "metadata": {},
   "outputs": [
    {
     "name": "stdout",
     "output_type": "stream",
     "text": [
      "Mennyi *-t és +-t szeretne kirajzolni?"
     ]
    },
    {
     "name": "stdin",
     "output_type": "stream",
     "text": [
      " 5\n"
     ]
    },
    {
     "name": "stdout",
     "output_type": "stream",
     "text": [
      "*****+++++"
     ]
    }
   ],
   "source": [
    "# include <stdio.h>\n",
    "\n",
    "void star(int n) {\n",
    "    if (n > 0) {\n",
    "        printf(\"*\");\n",
    "        star(n - 1);\n",
    "        printf(\"+\");\n",
    "    }\n",
    "}\n",
    "\n",
    "int main() {\n",
    "    int szam = 0;\n",
    "    printf(\"Mennyi *-t és +-t szeretne kirajzolni?\");\n",
    "    scanf(\"%d\", &szam);\n",
    "    star(szam);\n",
    "}"
   ]
  },
  {
   "cell_type": "markdown",
   "id": "53b9e3e0-b8c5-456c-9298-7919f1e02aba",
   "metadata": {
    "tags": []
   },
   "source": [
    "## 5. Példa - Természetes számok kiíratása"
   ]
  },
  {
   "cell_type": "markdown",
   "id": "78f8aeb9-b425-4228-83a9-3f0ab7ed5c44",
   "metadata": {},
   "source": [
    "<b>Feladat: </b>Készítsen programot, ami rekurzió segítségével kiíratja nullától kezdve a felhasználó által megadott mennyiségű természetes egész számot."
   ]
  },
  {
   "cell_type": "markdown",
   "id": "a0ac0b07-1c4f-418e-8be4-148923f61465",
   "metadata": {
    "jp-MarkdownHeadingCollapsed": true,
    "tags": []
   },
   "source": [
    "### <b>Megoldás</b>"
   ]
  },
  {
   "cell_type": "code",
   "execution_count": 12,
   "id": "d0d3016a-6861-4a74-b098-66902b7b4bd2",
   "metadata": {},
   "outputs": [
    {
     "name": "stdout",
     "output_type": "stream",
     "text": [
      "Hány számot szeretne kiíratni?"
     ]
    },
    {
     "name": "stdin",
     "output_type": "stream",
     "text": [
      " 50\n"
     ]
    },
    {
     "name": "stdout",
     "output_type": "stream",
     "text": [
      " 1  2  3  4  5  6  7  8  9  10  11  12  13  14  15  16  17  18  19  20  21  22  23  24  25  26  27  28  29  30  31  32  33  34  35  36  37  38  39  40  41  42  43  44  45  46  47  48  49  50 "
     ]
    }
   ],
   "source": [
    "#include<stdio.h>\n",
    "\n",
    "int numPrint(int n, int m) {    \n",
    "    if(n <= m) {\n",
    "         printf(\" %d \", n);\n",
    "         numPrint(n + 1, m);\n",
    "    }    \n",
    "    return 0;\n",
    "}\n",
    "\n",
    "int main() {\n",
    "    int n = 1, m = 0;\n",
    "    \n",
    "    printf(\"Hány számot szeretne kiíratni?\");\n",
    "    scanf(\"%d\", &m);     \n",
    "    numPrint(n, m);    \n",
    "    return 0;\n",
    "}"
   ]
  },
  {
   "cell_type": "markdown",
   "id": "8af406c1-7517-45fd-ace0-7e5bf080547b",
   "metadata": {
    "jp-MarkdownHeadingCollapsed": true,
    "tags": []
   },
   "source": [
    "## Rekurzió"
   ]
  },
  {
   "cell_type": "markdown",
   "id": "a92e37e6-76a9-4292-b12d-9001bb86a922",
   "metadata": {},
   "source": [
    "<img src=\"https://i.kym-cdn.com/photos/images/original/001/246/322/9b2.gif\" alt=\"Recursion\" width=\"500\" height=\"500\">"
   ]
  }
 ],
 "metadata": {
  "kernelspec": {
   "display_name": "C",
   "language": "c",
   "name": "c"
  },
  "language_info": {
   "file_extension": ".c",
   "mimetype": "text/x-csrc",
   "name": "text/x-csrc"
  }
 },
 "nbformat": 4,
 "nbformat_minor": 5
}
